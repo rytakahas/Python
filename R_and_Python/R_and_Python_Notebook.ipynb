{
 "cells": [
  {
   "cell_type": "markdown",
   "metadata": {},
   "source": [
    "# Using R Functions in Python\n",
    "\n",
    "This notebook provides all of the code present in the Medium article **Guide to R and Python in a Single Jupyter Notebook**. The focus on the notebook is on the use of R functions, libraries, vectors, dataframes, and formula within a Python notebook and how to interface between the Python and R environment. Following this, examples of using these features are given with the examples of smoothing splines, natural and basis splines, as well as generalized additive models (GAMs).\n",
    "\n",
    "**Author:** Matthew Stewart<br>\n",
    "\n",
    "---"
   ]
  },
  {
   "cell_type": "code",
   "execution_count": 2,
   "metadata": {},
   "outputs": [
    {
     "data": {
      "text/html": [
       "<style>\n",
       "blockquote { background: #AEDE94; }\n",
       "h1 { \n",
       "    padding-top: 25px;\n",
       "    padding-bottom: 25px;\n",
       "    text-align: left; \n",
       "    padding-left: 10px;\n",
       "    background-color: #DDDDDD; \n",
       "    color: black;\n",
       "}\n",
       "h2 { \n",
       "    padding-top: 10px;\n",
       "    padding-bottom: 10px;\n",
       "    text-align: left; \n",
       "    padding-left: 5px;\n",
       "    background-color: #EEEEEE; \n",
       "    color: black;\n",
       "}\n",
       "\n",
       "div.exercise {\n",
       "\tbackground-color: #ffcccc;\n",
       "\tborder-color: #E9967A; \t\n",
       "\tborder-left: 5px solid #800080; \n",
       "\tpadding: 0.5em;\n",
       "}\n",
       "div.discussion {\n",
       "\tbackground-color: #ccffcc;\n",
       "\tborder-color: #88E97A;\n",
       "\tborder-left: 5px solid #0A8000; \n",
       "\tpadding: 0.5em;\n",
       "}\n",
       "div.theme {\n",
       "\tbackground-color: #DDDDDD;\n",
       "\tborder-color: #E9967A; \t\n",
       "\tborder-left: 5px solid #800080; \n",
       "\tpadding: 0.5em;\n",
       "\tfont-size: 18pt;\n",
       "}\n",
       "div.gc { \n",
       "\tbackground-color: #AEDE94;\n",
       "\tborder-color: #E9967A; \t \n",
       "\tborder-left: 5px solid #800080; \n",
       "\tpadding: 0.5em;\n",
       "\tfont-size: 12pt;\n",
       "}\n",
       "p.q1 { \n",
       "    padding-top: 5px;\n",
       "    padding-bottom: 5px;\n",
       "    text-align: left; \n",
       "    padding-left: 5px;\n",
       "    background-color: #EEEEEE; \n",
       "    color: black;\n",
       "}\n",
       "header {\n",
       "   padding-top: 35px;\n",
       "    padding-bottom: 35px;\n",
       "    text-align: left; \n",
       "    padding-left: 10px;\n",
       "    background-color: #DDDDDD; \n",
       "    color: black;\n",
       "}\n",
       "</style>\n",
       "\n"
      ],
      "text/plain": [
       "<IPython.core.display.HTML object>"
      ]
     },
     "execution_count": 2,
     "metadata": {},
     "output_type": "execute_result"
    }
   ],
   "source": [
    "## RUN THIS CELL TO PROPERLY HIGHLIGHT THE EXERCISES\n",
    "import requests\n",
    "from IPython.core.display import HTML\n",
    "styles = requests.get(\"https://raw.githubusercontent.com/Harvard-IACS/2019-CS109B/master/content/styles/cs109.css\").text\n",
    "HTML(styles)"
   ]
  },
  {
   "cell_type": "markdown",
   "metadata": {},
   "source": [
    "## Learning Goals\n",
    "\n",
    "The main goal of this notebook is to get familiar with calling R functions within Python. Along the way, we'll learn about the \"formula\" interface to statsmodels, which gives an intuitive way of specifying regression models, and we'll review the different approaches to fitting curves.\n",
    "\n",
    "Key Skills:\n",
    "- Importing (base) R functions\n",
    "- Importing R library functions\n",
    "- Populating vectors R understands\n",
    "- Populating dataframes R understands\n",
    "- Populating formulas R understands\n",
    "- Running models in R\n",
    "- Getting results back to Python\n",
    "- Getting model predictions in R\n",
    "- Plotting in R\n",
    "- Reading R's documentation"
   ]
  },
  {
   "cell_type": "code",
   "execution_count": 3,
   "metadata": {},
   "outputs": [],
   "source": [
    "import numpy as np\n",
    "import pandas as pd\n",
    "import matplotlib.pyplot as plt\n",
    "\n",
    "%matplotlib inline "
   ]
  },
  {
   "cell_type": "markdown",
   "metadata": {},
   "source": [
    "## Linear/Polynomial Regression (Python, Review)\n",
    "Hopefully, you are at least somewhat familiar with using the statsmodels package in Python."
   ]
  },
  {
   "cell_type": "markdown",
   "metadata": {},
   "source": [
    "Reading data and (some) exploring in Pandas:"
   ]
  },
  {
   "cell_type": "code",
   "execution_count": 4,
   "metadata": {},
   "outputs": [
    {
     "name": "stdout",
     "output_type": "stream",
     "text": [
      "\n",
      "# Variables are:\n",
      "#   subject:   subject ID number\n",
      "#   age:       age diagnosed with diabetes\n",
      "#   acidity:   a measure of acidity called base deficit\n",
      "#   y:         natural log of serum C-peptide concentration\n",
      "#\n",
      "# Original source is Sockett et al. (1987)\n",
      "# mentioned in Hastie and Tibshirani's book \n",
      "# \"Generalized Additive Models\".\n",
      "\n"
     ]
    },
    {
     "data": {
      "text/html": [
       "<div>\n",
       "<style scoped>\n",
       "    .dataframe tbody tr th:only-of-type {\n",
       "        vertical-align: middle;\n",
       "    }\n",
       "\n",
       "    .dataframe tbody tr th {\n",
       "        vertical-align: top;\n",
       "    }\n",
       "\n",
       "    .dataframe thead th {\n",
       "        text-align: right;\n",
       "    }\n",
       "</style>\n",
       "<table border=\"1\" class=\"dataframe\">\n",
       "  <thead>\n",
       "    <tr style=\"text-align: right;\">\n",
       "      <th></th>\n",
       "      <th>subject</th>\n",
       "      <th>age</th>\n",
       "      <th>acidity</th>\n",
       "      <th>y</th>\n",
       "    </tr>\n",
       "  </thead>\n",
       "  <tbody>\n",
       "    <tr>\n",
       "      <th>0</th>\n",
       "      <td>1</td>\n",
       "      <td>5.2</td>\n",
       "      <td>-8.1</td>\n",
       "      <td>4.8</td>\n",
       "    </tr>\n",
       "    <tr>\n",
       "      <th>1</th>\n",
       "      <td>2</td>\n",
       "      <td>8.8</td>\n",
       "      <td>-16.1</td>\n",
       "      <td>4.1</td>\n",
       "    </tr>\n",
       "    <tr>\n",
       "      <th>2</th>\n",
       "      <td>3</td>\n",
       "      <td>10.5</td>\n",
       "      <td>-0.9</td>\n",
       "      <td>5.2</td>\n",
       "    </tr>\n",
       "    <tr>\n",
       "      <th>3</th>\n",
       "      <td>4</td>\n",
       "      <td>10.6</td>\n",
       "      <td>-7.8</td>\n",
       "      <td>5.5</td>\n",
       "    </tr>\n",
       "    <tr>\n",
       "      <th>4</th>\n",
       "      <td>5</td>\n",
       "      <td>10.4</td>\n",
       "      <td>-29.0</td>\n",
       "      <td>5.0</td>\n",
       "    </tr>\n",
       "  </tbody>\n",
       "</table>\n",
       "</div>"
      ],
      "text/plain": [
       "   subject   age  acidity    y\n",
       "0        1   5.2     -8.1  4.8\n",
       "1        2   8.8    -16.1  4.1\n",
       "2        3  10.5     -0.9  5.2\n",
       "3        4  10.6     -7.8  5.5\n",
       "4        5  10.4    -29.0  5.0"
      ]
     },
     "metadata": {},
     "output_type": "display_data"
    },
    {
     "data": {
      "text/plain": [
       "subject      int64\n",
       "age        float64\n",
       "acidity    float64\n",
       "y          float64\n",
       "dtype: object"
      ]
     },
     "metadata": {},
     "output_type": "display_data"
    },
    {
     "data": {
      "text/html": [
       "<div>\n",
       "<style scoped>\n",
       "    .dataframe tbody tr th:only-of-type {\n",
       "        vertical-align: middle;\n",
       "    }\n",
       "\n",
       "    .dataframe tbody tr th {\n",
       "        vertical-align: top;\n",
       "    }\n",
       "\n",
       "    .dataframe thead th {\n",
       "        text-align: right;\n",
       "    }\n",
       "</style>\n",
       "<table border=\"1\" class=\"dataframe\">\n",
       "  <thead>\n",
       "    <tr style=\"text-align: right;\">\n",
       "      <th></th>\n",
       "      <th>subject</th>\n",
       "      <th>age</th>\n",
       "      <th>acidity</th>\n",
       "      <th>y</th>\n",
       "    </tr>\n",
       "  </thead>\n",
       "  <tbody>\n",
       "    <tr>\n",
       "      <th>count</th>\n",
       "      <td>43.000000</td>\n",
       "      <td>43.000000</td>\n",
       "      <td>43.000000</td>\n",
       "      <td>43.000000</td>\n",
       "    </tr>\n",
       "    <tr>\n",
       "      <th>mean</th>\n",
       "      <td>22.000000</td>\n",
       "      <td>9.032558</td>\n",
       "      <td>-8.148837</td>\n",
       "      <td>4.746512</td>\n",
       "    </tr>\n",
       "    <tr>\n",
       "      <th>std</th>\n",
       "      <td>12.556539</td>\n",
       "      <td>4.022539</td>\n",
       "      <td>7.123080</td>\n",
       "      <td>0.720565</td>\n",
       "    </tr>\n",
       "    <tr>\n",
       "      <th>min</th>\n",
       "      <td>1.000000</td>\n",
       "      <td>0.900000</td>\n",
       "      <td>-29.000000</td>\n",
       "      <td>3.000000</td>\n",
       "    </tr>\n",
       "    <tr>\n",
       "      <th>25%</th>\n",
       "      <td>11.500000</td>\n",
       "      <td>5.500000</td>\n",
       "      <td>-12.700000</td>\n",
       "      <td>4.450000</td>\n",
       "    </tr>\n",
       "    <tr>\n",
       "      <th>50%</th>\n",
       "      <td>22.000000</td>\n",
       "      <td>10.400000</td>\n",
       "      <td>-7.800000</td>\n",
       "      <td>4.900000</td>\n",
       "    </tr>\n",
       "    <tr>\n",
       "      <th>75%</th>\n",
       "      <td>32.500000</td>\n",
       "      <td>11.850000</td>\n",
       "      <td>-2.000000</td>\n",
       "      <td>5.100000</td>\n",
       "    </tr>\n",
       "    <tr>\n",
       "      <th>max</th>\n",
       "      <td>43.000000</td>\n",
       "      <td>15.600000</td>\n",
       "      <td>-0.200000</td>\n",
       "      <td>6.600000</td>\n",
       "    </tr>\n",
       "  </tbody>\n",
       "</table>\n",
       "</div>"
      ],
      "text/plain": [
       "         subject        age    acidity          y\n",
       "count  43.000000  43.000000  43.000000  43.000000\n",
       "mean   22.000000   9.032558  -8.148837   4.746512\n",
       "std    12.556539   4.022539   7.123080   0.720565\n",
       "min     1.000000   0.900000 -29.000000   3.000000\n",
       "25%    11.500000   5.500000 -12.700000   4.450000\n",
       "50%    22.000000  10.400000  -7.800000   4.900000\n",
       "75%    32.500000  11.850000  -2.000000   5.100000\n",
       "max    43.000000  15.600000  -0.200000   6.600000"
      ]
     },
     "metadata": {},
     "output_type": "display_data"
    }
   ],
   "source": [
    "diab = pd.read_csv(\"data/diabetes.csv\")\n",
    "print(\"\"\"\n",
    "# Variables are:\n",
    "#   subject:   subject ID number\n",
    "#   age:       age diagnosed with diabetes\n",
    "#   acidity:   a measure of acidity called base deficit\n",
    "#   y:         natural log of serum C-peptide concentration\n",
    "#\n",
    "# Original source is Sockett et al. (1987)\n",
    "# mentioned in Hastie and Tibshirani's book \n",
    "# \"Generalized Additive Models\".\n",
    "\"\"\")\n",
    "\n",
    "display(diab.head())\n",
    "display(diab.dtypes)\n",
    "display(diab.describe())"
   ]
  },
  {
   "cell_type": "code",
   "execution_count": 5,
   "metadata": {},
   "outputs": [
    {
     "data": {
      "image/png": "[encoded data removed]",
      "text/plain": [
       "<Figure size 432x288 with 1 Axes>"
      ]
     },
     "metadata": {
      "needs_background": "light"
     },
     "output_type": "display_data"
    }
   ],
   "source": [
    "ax0 = diab.plot.scatter(x='age',y='y',c='Red',title=\"Diabetes data\") #plotting direclty from pandas!\n",
    "ax0.set_xlabel(\"Age at Diagnosis\")\n",
    "ax0.set_ylabel(\"Log C-Peptide Concentration\");"
   ]
  },
  {
   "cell_type": "markdown",
   "metadata": {},
   "source": [
    "Linear regression with statsmodels. \n",
    "\n",
    "- Previously, we worked from a vector of target values and a design matrix we built ourself (e.g. from PolynomialFeatures). \n",
    "- Now, Statsmodels' *formula interface* can help build the target value and design matrix for you."
   ]
  },
  {
   "cell_type": "code",
   "execution_count": 6,
   "metadata": {},
   "outputs": [],
   "source": [
    "#Using statsmodels\n",
    "import statsmodels.formula.api as sm\n",
    "\n",
    "\n",
    "model1 = sm.ols('y ~ age',data=diab)\n",
    "fit1_lm = model1.fit()"
   ]
  },
  {
   "cell_type": "markdown",
   "metadata": {},
   "source": [
    "Build a data frame to predict values on (sometimes this is just the test or validation set)\n",
    " - Very useful for making pretty plots of the model predcitions -- predict for TONS of values, not just whatever's in the training set"
   ]
  },
  {
   "cell_type": "code",
   "execution_count": 7,
   "metadata": {},
   "outputs": [
    {
     "data": {
      "text/html": [
       "<div>\n",
       "<style scoped>\n",
       "    .dataframe tbody tr th:only-of-type {\n",
       "        vertical-align: middle;\n",
       "    }\n",
       "\n",
       "    .dataframe tbody tr th {\n",
       "        vertical-align: top;\n",
       "    }\n",
       "\n",
       "    .dataframe thead th {\n",
       "        text-align: right;\n",
       "    }\n",
       "</style>\n",
       "<table border=\"1\" class=\"dataframe\">\n",
       "  <thead>\n",
       "    <tr style=\"text-align: right;\">\n",
       "      <th></th>\n",
       "      <th>age</th>\n",
       "    </tr>\n",
       "  </thead>\n",
       "  <tbody>\n",
       "    <tr>\n",
       "      <th>0</th>\n",
       "      <td>0.000000</td>\n",
       "    </tr>\n",
       "    <tr>\n",
       "      <th>1</th>\n",
       "      <td>0.161616</td>\n",
       "    </tr>\n",
       "    <tr>\n",
       "      <th>2</th>\n",
       "      <td>0.323232</td>\n",
       "    </tr>\n",
       "    <tr>\n",
       "      <th>3</th>\n",
       "      <td>0.484848</td>\n",
       "    </tr>\n",
       "    <tr>\n",
       "      <th>4</th>\n",
       "      <td>0.646465</td>\n",
       "    </tr>\n",
       "  </tbody>\n",
       "</table>\n",
       "</div>"
      ],
      "text/plain": [
       "        age\n",
       "0  0.000000\n",
       "1  0.161616\n",
       "2  0.323232\n",
       "3  0.484848\n",
       "4  0.646465"
      ]
     },
     "execution_count": 7,
     "metadata": {},
     "output_type": "execute_result"
    }
   ],
   "source": [
    "x_pred = np.linspace(0,16,100)\n",
    "\n",
    "predict_df = pd.DataFrame(data={\"age\":x_pred})\n",
    "predict_df.head()"
   ]
  },
  {
   "cell_type": "markdown",
   "metadata": {},
   "source": [
    "Use `get_prediction(<data>).summary_frame()` to get the model's prediction (and error bars!)"
   ]
  },
  {
   "cell_type": "code",
   "execution_count": 8,
   "metadata": {},
   "outputs": [
    {
     "data": {
      "text/html": [
       "<div>\n",
       "<style scoped>\n",
       "    .dataframe tbody tr th:only-of-type {\n",
       "        vertical-align: middle;\n",
       "    }\n",
       "\n",
       "    .dataframe tbody tr th {\n",
       "        vertical-align: top;\n",
       "    }\n",
       "\n",
       "    .dataframe thead th {\n",
       "        text-align: right;\n",
       "    }\n",
       "</style>\n",
       "<table border=\"1\" class=\"dataframe\">\n",
       "  <thead>\n",
       "    <tr style=\"text-align: right;\">\n",
       "      <th></th>\n",
       "      <th>mean</th>\n",
       "      <th>mean_se</th>\n",
       "      <th>mean_ci_lower</th>\n",
       "      <th>mean_ci_upper</th>\n",
       "      <th>obs_ci_lower</th>\n",
       "      <th>obs_ci_upper</th>\n",
       "    </tr>\n",
       "  </thead>\n",
       "  <tbody>\n",
       "    <tr>\n",
       "      <th>0</th>\n",
       "      <td>3.996031</td>\n",
       "      <td>0.244590</td>\n",
       "      <td>3.502071</td>\n",
       "      <td>4.489991</td>\n",
       "      <td>2.600828</td>\n",
       "      <td>5.391235</td>\n",
       "    </tr>\n",
       "    <tr>\n",
       "      <th>1</th>\n",
       "      <td>4.009459</td>\n",
       "      <td>0.240929</td>\n",
       "      <td>3.522892</td>\n",
       "      <td>4.496026</td>\n",
       "      <td>2.616856</td>\n",
       "      <td>5.402063</td>\n",
       "    </tr>\n",
       "    <tr>\n",
       "      <th>2</th>\n",
       "      <td>4.022887</td>\n",
       "      <td>0.237280</td>\n",
       "      <td>3.543691</td>\n",
       "      <td>4.502084</td>\n",
       "      <td>2.632842</td>\n",
       "      <td>5.412932</td>\n",
       "    </tr>\n",
       "    <tr>\n",
       "      <th>3</th>\n",
       "      <td>4.036315</td>\n",
       "      <td>0.233642</td>\n",
       "      <td>3.564466</td>\n",
       "      <td>4.508165</td>\n",
       "      <td>2.648786</td>\n",
       "      <td>5.423845</td>\n",
       "    </tr>\n",
       "    <tr>\n",
       "      <th>4</th>\n",
       "      <td>4.049743</td>\n",
       "      <td>0.230016</td>\n",
       "      <td>3.585216</td>\n",
       "      <td>4.514270</td>\n",
       "      <td>2.664687</td>\n",
       "      <td>5.434800</td>\n",
       "    </tr>\n",
       "  </tbody>\n",
       "</table>\n",
       "</div>"
      ],
      "text/plain": [
       "       mean   mean_se  mean_ci_lower  mean_ci_upper  obs_ci_lower  \\\n",
       "0  3.996031  0.244590       3.502071       4.489991      2.600828   \n",
       "1  4.009459  0.240929       3.522892       4.496026      2.616856   \n",
       "2  4.022887  0.237280       3.543691       4.502084      2.632842   \n",
       "3  4.036315  0.233642       3.564466       4.508165      2.648786   \n",
       "4  4.049743  0.230016       3.585216       4.514270      2.664687   \n",
       "\n",
       "   obs_ci_upper  \n",
       "0      5.391235  \n",
       "1      5.402063  \n",
       "2      5.412932  \n",
       "3      5.423845  \n",
       "4      5.434800  "
      ]
     },
     "execution_count": 8,
     "metadata": {},
     "output_type": "execute_result"
    }
   ],
   "source": [
    "prediction_output = fit1_lm.get_prediction(predict_df).summary_frame()\n",
    "prediction_output.head()"
   ]
  },
  {
   "cell_type": "markdown",
   "metadata": {},
   "source": [
    "Plot the model and error bars"
   ]
  },
  {
   "cell_type": "code",
   "execution_count": 9,
   "metadata": {},
   "outputs": [
    {
     "data": {
      "image/png": "[encoded data removed]",
      "text/plain": [
       "<Figure size 432x288 with 1 Axes>"
      ]
     },
     "metadata": {
      "needs_background": "light"
     },
     "output_type": "display_data"
    }
   ],
   "source": [
    "ax1 = diab.plot.scatter(x='age',y='y',c='Red',title=\"Diabetes data with least-squares linear fit\")\n",
    "ax1.set_xlabel(\"Age at Diagnosis\")\n",
    "ax1.set_ylabel(\"Log C-Peptide Concentration\")\n",
    "\n",
    "\n",
    "ax1.plot(predict_df.age, prediction_output['mean'],color=\"green\")\n",
    "ax1.plot(predict_df.age, prediction_output['mean_ci_lower'], color=\"blue\",linestyle=\"dashed\")\n",
    "ax1.plot(predict_df.age, prediction_output['mean_ci_upper'], color=\"blue\",linestyle=\"dashed\");\n",
    "\n",
    "ax1.plot(predict_df.age, prediction_output['obs_ci_lower'], color=\"skyblue\",linestyle=\"dashed\")\n",
    "ax1.plot(predict_df.age, prediction_output['obs_ci_upper'], color=\"skyblue\",linestyle=\"dashed\");"
   ]
  },
  {
   "cell_type": "markdown",
   "metadata": {},
   "source": [
    "<div class=\"exercise\"><b>Exercise 1</b></div>\n",
    "\n",
    "1. Fit a 3rd degree polynomial model and plot the model+error bars\n",
    " - Route1: Build a design df with a column for each of `age`, `age**2`, `age**3`\n",
    " - Route2: Just edit the formula"
   ]
  },
  {
   "cell_type": "code",
   "execution_count": 10,
   "metadata": {},
   "outputs": [
    {
     "data": {
      "text/html": [
       "<div>\n",
       "<style scoped>\n",
       "    .dataframe tbody tr th:only-of-type {\n",
       "        vertical-align: middle;\n",
       "    }\n",
       "\n",
       "    .dataframe tbody tr th {\n",
       "        vertical-align: top;\n",
       "    }\n",
       "\n",
       "    .dataframe thead th {\n",
       "        text-align: right;\n",
       "    }\n",
       "</style>\n",
       "<table border=\"1\" class=\"dataframe\">\n",
       "  <thead>\n",
       "    <tr style=\"text-align: right;\">\n",
       "      <th></th>\n",
       "      <th>mean</th>\n",
       "      <th>mean_se</th>\n",
       "      <th>mean_ci_lower</th>\n",
       "      <th>mean_ci_upper</th>\n",
       "      <th>obs_ci_lower</th>\n",
       "      <th>obs_ci_upper</th>\n",
       "    </tr>\n",
       "  </thead>\n",
       "  <tbody>\n",
       "    <tr>\n",
       "      <th>0</th>\n",
       "      <td>2.740481</td>\n",
       "      <td>0.508197</td>\n",
       "      <td>1.712556</td>\n",
       "      <td>3.768406</td>\n",
       "      <td>1.156238</td>\n",
       "      <td>4.324724</td>\n",
       "    </tr>\n",
       "    <tr>\n",
       "      <th>1</th>\n",
       "      <td>2.846265</td>\n",
       "      <td>0.472858</td>\n",
       "      <td>1.889819</td>\n",
       "      <td>3.802710</td>\n",
       "      <td>1.307439</td>\n",
       "      <td>4.385090</td>\n",
       "    </tr>\n",
       "    <tr>\n",
       "      <th>2</th>\n",
       "      <td>2.948751</td>\n",
       "      <td>0.439558</td>\n",
       "      <td>2.059661</td>\n",
       "      <td>3.837841</td>\n",
       "      <td>1.450860</td>\n",
       "      <td>4.446641</td>\n",
       "    </tr>\n",
       "    <tr>\n",
       "      <th>3</th>\n",
       "      <td>3.047990</td>\n",
       "      <td>0.408303</td>\n",
       "      <td>2.222119</td>\n",
       "      <td>3.873860</td>\n",
       "      <td>1.586737</td>\n",
       "      <td>4.509242</td>\n",
       "    </tr>\n",
       "    <tr>\n",
       "      <th>4</th>\n",
       "      <td>3.144031</td>\n",
       "      <td>0.379104</td>\n",
       "      <td>2.377221</td>\n",
       "      <td>3.910841</td>\n",
       "      <td>1.715328</td>\n",
       "      <td>4.572735</td>\n",
       "    </tr>\n",
       "  </tbody>\n",
       "</table>\n",
       "</div>"
      ],
      "text/plain": [
       "       mean   mean_se  mean_ci_lower  mean_ci_upper  obs_ci_lower  \\\n",
       "0  2.740481  0.508197       1.712556       3.768406      1.156238   \n",
       "1  2.846265  0.472858       1.889819       3.802710      1.307439   \n",
       "2  2.948751  0.439558       2.059661       3.837841      1.450860   \n",
       "3  3.047990  0.408303       2.222119       3.873860      1.586737   \n",
       "4  3.144031  0.379104       2.377221       3.910841      1.715328   \n",
       "\n",
       "   obs_ci_upper  \n",
       "0      4.324724  \n",
       "1      4.385090  \n",
       "2      4.446641  \n",
       "3      4.509242  \n",
       "4      4.572735  "
      ]
     },
     "execution_count": 10,
     "metadata": {},
     "output_type": "execute_result"
    }
   ],
   "source": [
    "fit2_lm = sm.ols(formula=\"y ~ age + np.power(age, 2) + np.power(age, 3)\",data=diab).fit()\n",
    "\n",
    "poly_predictions = fit2_lm.get_prediction(predict_df).summary_frame()\n",
    "poly_predictions.head()"
   ]
  },
  {
   "cell_type": "code",
   "execution_count": 11,
   "metadata": {},
   "outputs": [
    {
     "data": {
      "image/png": "[encoded data removed]",
      "text/plain": [
       "<Figure size 432x288 with 1 Axes>"
      ]
     },
     "metadata": {
      "needs_background": "light"
     },
     "output_type": "display_data"
    }
   ],
   "source": [
    "ax2 = diab.plot.scatter(x='age',y='y',c='Red',title=\"Diabetes data with least-squares cubic fit\")\n",
    "ax2.set_xlabel(\"Age at Diagnosis\")\n",
    "ax2.set_ylabel(\"Log C-Peptide Concentration\")\n",
    "\n",
    "ax2.plot(predict_df.age, poly_predictions['mean'],color=\"green\")\n",
    "ax2.plot(predict_df.age, poly_predictions['mean_ci_lower'], color=\"blue\",linestyle=\"dashed\")\n",
    "ax2.plot(predict_df.age, poly_predictions['mean_ci_upper'], color=\"blue\",linestyle=\"dashed\");\n",
    "\n",
    "ax2.plot(predict_df.age, poly_predictions['obs_ci_lower'], color=\"skyblue\",linestyle=\"dashed\")\n",
    "ax2.plot(predict_df.age, poly_predictions['obs_ci_upper'], color=\"skyblue\",linestyle=\"dashed\");"
   ]
  },
  {
   "cell_type": "markdown",
   "metadata": {},
   "source": [
    "## Linear/Polynomial Regression, but make it R"
   ]
  },
  {
   "cell_type": "markdown",
   "metadata": {},
   "source": [
    "This is the meat of the lab. After this section we'll know everything we need to in order to work with R models. The rest of the lab is just applying these concepts to run particular models. This section therefore is your 'cheat sheet' for working in R.\n",
    "\n",
    "What we need to know:\n",
    "- Importing (base) R functions\n",
    "- Importing R Library functions\n",
    "- Populating vectors R understands\n",
    "- Populating DataFrames R understands\n",
    "- Populating Formulas R understands\n",
    "- Running models in R\n",
    "- Getting results back to Python\n",
    "- Getting model predictions in R\n",
    "- Plotting in R\n",
    "- Reading R's documentation"
   ]
  },
  {
   "cell_type": "markdown",
   "metadata": {},
   "source": [
    "**Importing R functions**"
   ]
  },
  {
   "cell_type": "code",
   "execution_count": 12,
   "metadata": {},
   "outputs": [],
   "source": [
    "# if you're on JupyterHub you may need to specify the path to R\n",
    "\n",
    "import os\n",
    "os.environ['R_HOME'] = \"/home/matt.stewart/anaconda3/bin/R\"\n",
    "\n",
    "import rpy2.robjects as robjects"
   ]
  },
  {
   "cell_type": "code",
   "execution_count": 13,
   "metadata": {},
   "outputs": [],
   "source": [
    "r_lm = robjects.r[\"lm\"]\n",
    "r_predict = robjects.r[\"predict\"]\n",
    "#r_plot = robjects.r[\"plot\"] # more on plotting later\n",
    "\n",
    "#lm() and predict() are two of the most common functions we'll use"
   ]
  },
  {
   "cell_type": "markdown",
   "metadata": {},
   "source": [
    "**Importing R libraries**"
   ]
  },
  {
   "cell_type": "code",
   "execution_count": 14,
   "metadata": {},
   "outputs": [],
   "source": [
    "from rpy2.robjects.packages import importr\n",
    "#r_cluster = importr('cluster')\n",
    "#r_cluster.pam;"
   ]
  },
  {
   "cell_type": "markdown",
   "metadata": {},
   "source": [
    "**Populating vectors R understands**"
   ]
  },
  {
   "cell_type": "code",
   "execution_count": 15,
   "metadata": {},
   "outputs": [],
   "source": [
    "r_y = robjects.FloatVector(diab['y'])\n",
    "r_age = robjects.FloatVector(diab['age'])\n",
    "# What happens if we pass the wrong type?\n",
    "# How does r_age display?\n",
    "# How does r_age print?"
   ]
  },
  {
   "cell_type": "markdown",
   "metadata": {},
   "source": [
    "**Populating Data Frames R understands**"
   ]
  },
  {
   "cell_type": "code",
   "execution_count": 16,
   "metadata": {},
   "outputs": [],
   "source": [
    "diab_r = robjects.DataFrame({\"y\":r_y, \"age\":r_age})\n",
    "# How does diab_r display?\n",
    "# How does diab_r print?"
   ]
  },
  {
   "cell_type": "markdown",
   "metadata": {},
   "source": [
    "**Populating formulas R understands**"
   ]
  },
  {
   "cell_type": "code",
   "execution_count": 17,
   "metadata": {},
   "outputs": [],
   "source": [
    "simple_formula = robjects.Formula(\"y~age\")\n",
    "simple_formula.environment[\"y\"] = r_y #populate the formula's .environment, so it knows what 'y' and 'age' refer to\n",
    "simple_formula.environment[\"age\"] = r_age"
   ]
  },
  {
   "cell_type": "markdown",
   "metadata": {},
   "source": [
    "**Running Models in R**"
   ]
  },
  {
   "cell_type": "code",
   "execution_count": 18,
   "metadata": {},
   "outputs": [],
   "source": [
    "diab_lm = r_lm(formula=simple_formula) # the formula object is storing all the needed variables"
   ]
  },
  {
   "cell_type": "code",
   "execution_count": 19,
   "metadata": {},
   "outputs": [],
   "source": [
    "simple_formula = robjects.Formula(\"y~age\") # reset the formula\n",
    "diab_lm = r_lm(formula=simple_formula, data=diab_r) #can also use a 'dumb' formula and pass a dataframe"
   ]
  },
  {
   "cell_type": "markdown",
   "metadata": {},
   "source": [
    "**Getting results back to Python**"
   ]
  },
  {
   "cell_type": "code",
   "execution_count": 20,
   "metadata": {},
   "outputs": [
    {
     "data": {
      "text/html": [
       "\n",
       "        <span>ListVector with 12 elements.</span>\n",
       "        <table>\n",
       "        <tbody>\n",
       "        \n",
       "          <tr>\n",
       "            <th>\n",
       "            coefficients\n",
       "            </th>\n",
       "            <td>\n",
       "            \n",
       "        <span>FloatVector with 2 elements.</span>\n",
       "        <table>\n",
       "        <tbody>\n",
       "          <tr>\n",
       "          \n",
       "            <td>\n",
       "            3.996031\n",
       "            </td>\n",
       "          \n",
       "            <td>\n",
       "            0.083086\n",
       "            </td>\n",
       "          \n",
       "          </tr>\n",
       "        </tbody>\n",
       "        </table>\n",
       "        \n",
       "            </td>\n",
       "          </tr>\n",
       "        \n",
       "          <tr>\n",
       "            <th>\n",
       "            residuals\n",
       "            </th>\n",
       "            <td>\n",
       "            \n",
       "        <span>FloatVector with 43 elements.</span>\n",
       "        <table>\n",
       "        <tbody>\n",
       "          <tr>\n",
       "          \n",
       "            <td>\n",
       "            0.371921\n",
       "            </td>\n",
       "          \n",
       "            <td>\n",
       "            -0.627189\n",
       "            </td>\n",
       "          \n",
       "            <td>\n",
       "            0.331564\n",
       "            </td>\n",
       "          \n",
       "            <td>\n",
       "            ...\n",
       "            </td>\n",
       "          \n",
       "            <td>\n",
       "            -0.492768\n",
       "            </td>\n",
       "          \n",
       "            <td>\n",
       "            0.164502\n",
       "            </td>\n",
       "          \n",
       "            <td>\n",
       "            0.206638\n",
       "            </td>\n",
       "          \n",
       "          </tr>\n",
       "        </tbody>\n",
       "        </table>\n",
       "        \n",
       "            </td>\n",
       "          </tr>\n",
       "        \n",
       "          <tr>\n",
       "            <th>\n",
       "            effects\n",
       "            </th>\n",
       "            <td>\n",
       "            \n",
       "        <span>FloatVector with 43 elements.</span>\n",
       "        <table>\n",
       "        <tbody>\n",
       "          <tr>\n",
       "          \n",
       "            <td>\n",
       "            -31.124958\n",
       "            </td>\n",
       "          \n",
       "            <td>\n",
       "            -2.165975\n",
       "            </td>\n",
       "          \n",
       "            <td>\n",
       "            0.333051\n",
       "            </td>\n",
       "          \n",
       "            <td>\n",
       "            ...\n",
       "            </td>\n",
       "          \n",
       "            <td>\n",
       "            -0.421956\n",
       "            </td>\n",
       "          \n",
       "            <td>\n",
       "            0.124907\n",
       "            </td>\n",
       "          \n",
       "            <td>\n",
       "            0.215828\n",
       "            </td>\n",
       "          \n",
       "          </tr>\n",
       "        </tbody>\n",
       "        </table>\n",
       "        \n",
       "            </td>\n",
       "          </tr>\n",
       "        \n",
       "          <tr>\n",
       "            <th>\n",
       "            ...\n",
       "            </th>\n",
       "            <td>\n",
       "            ...\n",
       "            </td>\n",
       "          </tr>\n",
       "        \n",
       "          <tr>\n",
       "            <th>\n",
       "            call\n",
       "            </th>\n",
       "            <td>\n",
       "            <rpy2.rinterface.LangSexpVector object at 0x7f34a389ce48> [RTYPES.LANGSXP]\n",
       "            </td>\n",
       "          </tr>\n",
       "        \n",
       "          <tr>\n",
       "            <th>\n",
       "            terms\n",
       "            </th>\n",
       "            <td>\n",
       "            y ~ age\n",
       "attr(,\"variables\")\n",
       "list(y, age)\n",
       "attr(,\"factors\")\n",
       "    age\n",
       "y     0\n",
       "age   1\n",
       "attr(,\"term.labels\")\n",
       "[1] \"age\"\n",
       "attr(,\"order\")\n",
       "[1] 1\n",
       "attr(,\"intercept\")\n",
       "[1] 1\n",
       "attr(,\"response\")\n",
       "[1] 1\n",
       "attr(,\".Environment\")\n",
       "<environment: R_GlobalEnv>\n",
       "attr(,\"predvars\")\n",
       "list(y, age)\n",
       "attr(,\"dataClasses\")\n",
       "        y       age \n",
       "\"numeric\" \"numeric\" \n",
       "\n",
       "            </td>\n",
       "          </tr>\n",
       "        \n",
       "          <tr>\n",
       "            <th>\n",
       "            model\n",
       "            </th>\n",
       "            <td>\n",
       "            \n",
       "        <span>R/rpy2 DataFrame (43 x 2)</span>\n",
       "        <table>\n",
       "          <thead>\n",
       "            <tr>\n",
       "              \n",
       "              <th>y</th>\n",
       "              \n",
       "              <th>age</th>\n",
       "              \n",
       "            </tr>\n",
       "          </thead>\n",
       "          <tbody>\n",
       "          \n",
       "          <tr>\n",
       "            \n",
       "            <td>\n",
       "              ...\n",
       "            </td>\n",
       "            \n",
       "            <td>\n",
       "              ...\n",
       "            </td>\n",
       "            \n",
       "          </tr>\n",
       "          \n",
       "          </tbody>\n",
       "        </table>\n",
       "    \n",
       "            </td>\n",
       "          </tr>\n",
       "        \n",
       "        </tbody>\n",
       "        </table>\n",
       "        "
      ],
      "text/plain": [
       "R object with classes: ('lm',) mapped to:\n",
       "[FloatSexp..., FloatSexp..., FloatSexp..., IntSexpVe..., ..., ListSexpV..., LangSexpV..., LangSexpV..., ListSexpV...]\n",
       "  coefficients: <class 'rpy2.robjects.vectors.FloatVector'>\n",
       "  R object with classes: ('numeric',) mapped to:\n",
       "[3.996031, 0.083086]\n",
       "  residuals: <class 'rpy2.robjects.vectors.FloatVector'>\n",
       "  R object with classes: ('numeric',) mapped to:\n",
       "[0.371921, -0.627189, 0.331564, 0.623256, ..., -0.934608, -0.492768, 0.164502, 0.206638]\n",
       "  effects: <class 'rpy2.robjects.vectors.FloatVector'>\n",
       "  R object with classes: ('numeric',) mapped to:\n",
       "[-31.124958, -2.165975, 0.333051, 0.627310, ..., -0.881769, -0.421956, 0.124907, 0.215828]\n",
       "  rank: <class 'rpy2.robjects.vectors.IntVector'>\n",
       "  R object with classes: ('RTYPES.INTSXP',) mapped to:\n",
       "[2]\n",
       "...\n",
       "R object with classes: ('lm',) mapped to:\n",
       "[FloatSexp..., FloatSexp..., FloatSexp..., IntSexpVe..., ..., ListSexpV..., LangSexpV..., LangSexpV..., ListSexpV...]\n",
       "  qr: <class 'rpy2.rinterface.LangSexpVector'>\n",
       "  <rpy2.rinterface.LangSexpVector object at 0x7f34a3862108> [RTYPES.LANGSXP]\n",
       "  df.residual: <class 'rpy2.robjects.Formula'>\n",
       "  R object with classes: ('terms', 'formula') mapped to:\n",
       "R object with classes: ('lm',) mapped to:\n",
       "[FloatSexp..., FloatSexp..., FloatSexp..., IntSexpVe..., ..., ListSexpV..., LangSexpV..., LangSexpV..., ListSexpV...]"
      ]
     },
     "execution_count": 20,
     "metadata": {},
     "output_type": "execute_result"
    }
   ],
   "source": [
    "diab_lm #the result is already 'in' python, but it's a special object"
   ]
  },
  {
   "cell_type": "code",
   "execution_count": 21,
   "metadata": {},
   "outputs": [
    {
     "name": "stdout",
     "output_type": "stream",
     "text": [
      " [1] \"coefficients\"  \"residuals\"     \"effects\"       \"rank\"         \n",
      " [5] \"fitted.values\" \"assign\"        \"qr\"            \"df.residual\"  \n",
      " [9] \"xlevels\"       \"call\"          \"terms\"         \"model\"        \n",
      "\n"
     ]
    }
   ],
   "source": [
    "print(diab_lm.names) # view all names"
   ]
  },
  {
   "cell_type": "code",
   "execution_count": 22,
   "metadata": {},
   "outputs": [
    {
     "data": {
      "text/html": [
       "\n",
       "        <span>FloatVector with 2 elements.</span>\n",
       "        <table>\n",
       "        <tbody>\n",
       "          <tr>\n",
       "          \n",
       "            <td>\n",
       "            3.996031\n",
       "            </td>\n",
       "          \n",
       "            <td>\n",
       "            0.083086\n",
       "            </td>\n",
       "          \n",
       "          </tr>\n",
       "        </tbody>\n",
       "        </table>\n",
       "        "
      ],
      "text/plain": [
       "R object with classes: ('numeric',) mapped to:\n",
       "[3.996031, 0.083086]"
      ]
     },
     "execution_count": 22,
     "metadata": {},
     "output_type": "execute_result"
    }
   ],
   "source": [
    "diab_lm[0] #grab the first element"
   ]
  },
  {
   "cell_type": "code",
   "execution_count": 23,
   "metadata": {},
   "outputs": [
    {
     "data": {
      "text/html": [
       "\n",
       "        <span>FloatVector with 2 elements.</span>\n",
       "        <table>\n",
       "        <tbody>\n",
       "          <tr>\n",
       "          \n",
       "            <td>\n",
       "            3.996031\n",
       "            </td>\n",
       "          \n",
       "            <td>\n",
       "            0.083086\n",
       "            </td>\n",
       "          \n",
       "          </tr>\n",
       "        </tbody>\n",
       "        </table>\n",
       "        "
      ],
      "text/plain": [
       "R object with classes: ('numeric',) mapped to:\n",
       "[3.996031, 0.083086]"
      ]
     },
     "execution_count": 23,
     "metadata": {},
     "output_type": "execute_result"
    }
   ],
   "source": [
    "diab_lm.rx2(\"coefficients\") #use rx2 to get elements by name!"
   ]
  },
  {
   "cell_type": "code",
   "execution_count": 24,
   "metadata": {},
   "outputs": [
    {
     "data": {
      "text/plain": [
       "array([3.99603115, 0.08308615])"
      ]
     },
     "execution_count": 24,
     "metadata": {},
     "output_type": "execute_result"
    }
   ],
   "source": [
    "np.array(diab_lm.rx2(\"coefficients\")) #r vectors can be converted to numpy (but rarely needed)"
   ]
  },
  {
   "cell_type": "markdown",
   "metadata": {},
   "source": [
    "**Getting Predictions**"
   ]
  },
  {
   "cell_type": "code",
   "execution_count": 25,
   "metadata": {},
   "outputs": [],
   "source": [
    "# make a df to predict on (might just be the validation or test dataframe)\n",
    "predict_df = robjects.DataFrame({\"age\": robjects.FloatVector(np.linspace(0,16,100))})\n",
    "\n",
    "# call R's predict() function, passing the model and the data \n",
    "predictions = r_predict(diab_lm, predict_df)"
   ]
  },
  {
   "cell_type": "code",
   "execution_count": 26,
   "metadata": {},
   "outputs": [],
   "source": [
    "x_vals = predict_df.rx2(\"age\")"
   ]
  },
  {
   "cell_type": "code",
   "execution_count": 27,
   "metadata": {},
   "outputs": [
    {
     "data": {
      "image/png": "[encoded data removed]",
      "text/plain": [
       "<Figure size 432x288 with 1 Axes>"
      ]
     },
     "metadata": {
      "needs_background": "light"
     },
     "output_type": "display_data"
    }
   ],
   "source": [
    "ax = diab.plot.scatter(x='age',y='y',c='Red',title=\"Diabetes data\")\n",
    "ax.set_xlabel(\"Age at Diagnosis\")\n",
    "ax.set_ylabel(\"Log C-Peptide Concentration\");\n",
    "\n",
    "ax.plot(x_vals,predictions); #plt still works with r vectors as input!"
   ]
  },
  {
   "cell_type": "markdown",
   "metadata": {},
   "source": [
    "**Plotting in R**"
   ]
  },
  {
   "cell_type": "code",
   "execution_count": 79,
   "metadata": {},
   "outputs": [],
   "source": [
    "%load_ext rpy2.ipython"
   ]
  },
  {
   "cell_type": "markdown",
   "metadata": {},
   "source": [
    "- The above turns on the %R \"magic\"\n",
    "- R's plot() command responds differently based on what you hand to it; Different models get different plots!\n",
    " - For any specific model search for plot.modelname. E.g. for a GAM model, search plot.gam for any details of plotting a GAM model\n",
    "- The %R \"magic\" runs R code in 'notebook' mode, so figures display nicely\n",
    "  - Ahead of the `plot(<model>)` code we pass in the variables R needs to know about (`-i` is for \"input\")"
   ]
  },
  {
   "cell_type": "code",
   "execution_count": 80,
   "metadata": {},
   "outputs": [],
   "source": [
    "%R -i diab_lm plot(diab_lm);"
   ]
  },
  {
   "cell_type": "markdown",
   "metadata": {},
   "source": [
    "The documentation for the `lm()` funciton is [here](https://stat.ethz.ch/R-manual/R-devel/library/stats/html/lm.html), and a prettier version (same content) is [here](https://www.rdocumentation.org/packages/stats/versions/3.5.2/topics/lm). When googling, perfer rdocumentation.org when possible.\n",
    "Sections:\n",
    " - **Usage**: gives the function signature, including all optional arguments\n",
    " - **Arguments**: What each function input controls\n",
    " - **Details**: additional info on what the funciton *does* and how arguments interact. **Often the right place to start reading**\n",
    " - **Value**: the structure of the object returned by the function\n",
    " - **Refferences**: The relevant academic papers\n",
    " - **See Also**: other functions of interest"
   ]
  },
  {
   "cell_type": "markdown",
   "metadata": {},
   "source": [
    "<div class=\"exercise\"><b>Exercise 2</b></div>\n",
    "\n",
    "1. Add confidence intervals calculated in R to the linear regression plot above. Use the `interval=` argument to `r_predict()` (documentation [here](https://stat.ethz.ch/R-manual/R-devel/library/stats/html/predict.lm.html)). You will have to work with a matrix returned by R.\n",
    "2. Fit a 5th degree polynomial to the diabetes data in R. Search the web for an easier method than writing out a formula with all 5 polynomial terms."
   ]
  },
  {
   "cell_type": "code",
   "execution_count": 31,
   "metadata": {},
   "outputs": [
    {
     "data": {
      "image/png": "[encoded data removed]",
      "text/plain": [
       "<Figure size 432x288 with 1 Axes>"
      ]
     },
     "metadata": {
      "needs_background": "light"
     },
     "output_type": "display_data"
    }
   ],
   "source": [
    "CI_matrix = np.array(r_predict(diab_lm, predict_df, interval=\"confidence\"))\n",
    "\n",
    "ax = diab.plot.scatter(x='age',y='y',c='Red',title=\"Diabetes data\")\n",
    "ax.set_xlabel(\"Age at Diagnosis\")\n",
    "ax.set_ylabel(\"Log C-Peptide Concentration\");\n",
    "\n",
    "ax.plot(x_vals,CI_matrix[:,0], label=\"prediction\")\n",
    "ax.plot(x_vals,CI_matrix[:,1], label=\"95% CI\", c='g')\n",
    "ax.plot(x_vals,CI_matrix[:,2], label=\"95% CI\", c='g')\n",
    "plt.legend();"
   ]
  },
  {
   "cell_type": "code",
   "execution_count": 32,
   "metadata": {},
   "outputs": [
    {
     "data": {
      "image/png": "[encoded data removed]",
      "text/plain": [
       "<Figure size 432x288 with 1 Axes>"
      ]
     },
     "metadata": {
      "needs_background": "light"
     },
     "output_type": "display_data"
    }
   ],
   "source": [
    "ploy5_formula = robjects.Formula(\"y~poly(age,5)\") # reset the formula\n",
    "diab5_lm = r_lm(formula=ploy5_formula, data=diab_r) #can also use a 'dumb' formula and pass a dataframe\n",
    "\n",
    "predictions = r_predict(diab5_lm, predict_df, interval=\"confidence\")\n",
    "\n",
    "ax = diab.plot.scatter(x='age',y='y',c='Red',title=\"Diabetes data\")\n",
    "ax.set_xlabel(\"Age at Diagnosis\")\n",
    "ax.set_ylabel(\"Log C-Peptide Concentration\");\n",
    "\n",
    "ax.plot(x_vals,predictions);"
   ]
  },
  {
   "cell_type": "markdown",
   "metadata": {},
   "source": [
    "## Lowess Smoothing\n",
    "Lowess Smoothing is implemented in both Python and R. We'll use it as another example as we transition languages. "
   ]
  },
  {
   "cell_type": "markdown",
   "metadata": {},
   "source": [
    "**In Python**"
   ]
  },
  {
   "cell_type": "code",
   "execution_count": 34,
   "metadata": {},
   "outputs": [],
   "source": [
    "from statsmodels.nonparametric.smoothers_lowess import lowess as lowess\n",
    "\n",
    "ss1 = lowess(diab['y'],diab['age'],frac=0.15)\n",
    "ss2 = lowess(diab['y'],diab['age'],frac=0.25)\n",
    "ss3 = lowess(diab['y'],diab['age'],frac=0.7)\n",
    "ss4 = lowess(diab['y'],diab['age'],frac=1)"
   ]
  },
  {
   "cell_type": "code",
   "execution_count": 35,
   "metadata": {},
   "outputs": [
    {
     "data": {
      "text/plain": [
       "array([[0.9       , 3.22071129],\n",
       "       [1.        , 3.26459047],\n",
       "       [1.8       , 3.62356396],\n",
       "       [1.9       , 3.66837986],\n",
       "       [2.2       , 3.80550938],\n",
       "       [4.2       , 5.0920864 ],\n",
       "       [4.8       , 4.19014581],\n",
       "       [4.8       , 4.19014581],\n",
       "       [5.1       , 4.66468111],\n",
       "       [5.2       , 4.82679775]])"
      ]
     },
     "execution_count": 35,
     "metadata": {},
     "output_type": "execute_result"
    }
   ],
   "source": [
    "ss1[:10,:] # we get back simple a smoothed y value for each x value in the data"
   ]
  },
  {
   "cell_type": "markdown",
   "metadata": {},
   "source": [
    "Notice the clean code to plot different models. We'll see even cleaner code in a minute"
   ]
  },
  {
   "cell_type": "code",
   "execution_count": 36,
   "metadata": {},
   "outputs": [
    {
     "data": {
      "image/png": "[encoded data removed]",
      "text/plain": [
       "<Figure size 432x288 with 1 Axes>"
      ]
     },
     "metadata": {
      "needs_background": "light"
     },
     "output_type": "display_data"
    },
    {
     "data": {
      "image/png": "[encoded data removed]",
      "text/plain": [
       "<Figure size 432x288 with 1 Axes>"
      ]
     },
     "metadata": {
      "needs_background": "light"
     },
     "output_type": "display_data"
    },
    {
     "data": {
      "image/png": "[encoded data removed]",
      "text/plain": [
       "<Figure size 432x288 with 1 Axes>"
      ]
     },
     "metadata": {
      "needs_background": "light"
     },
     "output_type": "display_data"
    },
    {
     "data": {
      "image/png": "[encoded data removed]",
      "text/plain": [
       "<Figure size 432x288 with 1 Axes>"
      ]
     },
     "metadata": {
      "needs_background": "light"
     },
     "output_type": "display_data"
    }
   ],
   "source": [
    "for cur_model, cur_frac in zip([ss1,ss2,ss3,ss4],[0.15,0.25,0.7,1]):\n",
    "\n",
    "    ax = diab.plot.scatter(x='age',y='y',c='Red',title=\"Lowess Fit, Fraction = {}\".format(cur_frac))\n",
    "    ax.set_xlabel(\"Age at Diagnosis\")\n",
    "    ax.set_ylabel(\"Log C-Peptide Concentration\")\n",
    "    ax.plot(cur_model[:,0],cur_model[:,1],color=\"blue\")\n",
    "    \n",
    "    plt.show()"
   ]
  },
  {
   "cell_type": "markdown",
   "metadata": {},
   "source": [
    "**In R**  \n",
    "\n",
    "We need to:\n",
    " - Import the loess function\n",
    " - Send data over to R\n",
    " - Call the function and get results"
   ]
  },
  {
   "cell_type": "code",
   "execution_count": 37,
   "metadata": {},
   "outputs": [],
   "source": [
    "r_loess = robjects.r['loess.smooth'] #extract R function\n",
    "r_y = robjects.FloatVector(diab['y'])\n",
    "r_age = robjects.FloatVector(diab['age'])\n",
    "\n",
    "ss1_r = r_loess(r_age,r_y, span=0.15, degree=1)"
   ]
  },
  {
   "cell_type": "code",
   "execution_count": 38,
   "metadata": {},
   "outputs": [
    {
     "data": {
      "text/html": [
       "\n",
       "        <span>ListVector with 2 elements.</span>\n",
       "        <table>\n",
       "        <tbody>\n",
       "        \n",
       "          <tr>\n",
       "            <th>\n",
       "            x\n",
       "            </th>\n",
       "            <td>\n",
       "            <rpy2.rinterface.FloatSexpVector object at 0x7f34a34fbd48> [RTYPES.REALSXP]\n",
       "            </td>\n",
       "          </tr>\n",
       "        \n",
       "          <tr>\n",
       "            <th>\n",
       "            y\n",
       "            </th>\n",
       "            <td>\n",
       "            <rpy2.rinterface.FloatSexpVector object at 0x7f34a34fb848> [RTYPES.REALSXP]\n",
       "            </td>\n",
       "          </tr>\n",
       "        \n",
       "        </tbody>\n",
       "        </table>\n",
       "        "
      ],
      "text/plain": [
       "R object with classes: ('list',) mapped to:\n",
       "[FloatSexpVector, FloatSexpVector]\n",
       "  x: <class 'rpy2.rinterface.FloatSexpVector'>\n",
       "  <rpy2.rinterface.FloatSexpVector object at 0x7f34a34fb888> [RTYPES.REALSXP]\n",
       "  y: <class 'rpy2.rinterface.FloatSexpVector'>\n",
       "  <rpy2.rinterface.FloatSexpVector object at 0x7f34a34fbd48> [RTYPES.REALSXP]"
      ]
     },
     "execution_count": 38,
     "metadata": {},
     "output_type": "execute_result"
    }
   ],
   "source": [
    "ss1_r #again, a smoothed y value for each x value in the data"
   ]
  },
  {
   "cell_type": "markdown",
   "metadata": {},
   "source": [
    "**Varying span**  \n",
    "Next, some extremely clean code to fit and plot models with various parameter settings. (Though the `zip()` method seen earlier is great when e.g. the label and the parameter differ)"
   ]
  },
  {
   "cell_type": "code",
   "execution_count": 40,
   "metadata": {},
   "outputs": [
    {
     "data": {
      "image/png": "[encoded data removed]",
      "text/plain": [
       "<Figure size 432x288 with 1 Axes>"
      ]
     },
     "metadata": {
      "needs_background": "light"
     },
     "output_type": "display_data"
    },
    {
     "data": {
      "image/png": "[encoded data removed]",
      "text/plain": [
       "<Figure size 432x288 with 1 Axes>"
      ]
     },
     "metadata": {
      "needs_background": "light"
     },
     "output_type": "display_data"
    },
    {
     "data": {
      "image/png": "[encoded data removed]",
      "text/plain": [
       "<Figure size 432x288 with 1 Axes>"
      ]
     },
     "metadata": {
      "needs_background": "light"
     },
     "output_type": "display_data"
    },
    {
     "data": {
      "image/png": "[encoded data removed]",
      "text/plain": [
       "<Figure size 432x288 with 1 Axes>"
      ]
     },
     "metadata": {
      "needs_background": "light"
     },
     "output_type": "display_data"
    }
   ],
   "source": [
    "for cur_frac in [0.15,0.25,0.7,1]:\n",
    "    \n",
    "    cur_smooth = r_loess(r_age,r_y, span=cur_frac)\n",
    "\n",
    "    ax = diab.plot.scatter(x='age',y='y',c='Red',title=\"Lowess Fit, Fraction = {}\".format(cur_frac))\n",
    "    ax.set_xlabel(\"Age at Diagnosis\")\n",
    "    ax.set_ylabel(\"Log C-Peptide Concentration\")\n",
    "    ax.plot(cur_smooth[0], cur_smooth[1], color=\"blue\")\n",
    "    \n",
    "    plt.show()"
   ]
  },
  {
   "cell_type": "markdown",
   "metadata": {},
   "source": [
    "## Smoothing Splines\n",
    "From this point forward, we're working with R functions; these models aren't (well) supported in Python.\n",
    "\n",
    "For clarity: this is the fancy spline model that minimizes $MSE - \\lambda\\cdot\\text{wiggle penalty}$ $=$ $\\sum_{i=1}^N \\left(y_i - f(x_i)\\right)^2 - \\lambda \\int \\left(f''(x)\\right)^2$, across all possible functions $f$. The winner will always be a continuous, cubic polynomial with a knot at each data point"
   ]
  },
  {
   "cell_type": "code",
   "execution_count": 41,
   "metadata": {},
   "outputs": [],
   "source": [
    "r_smooth_spline = robjects.r['smooth.spline'] #extract R function\n",
    "\n",
    "# run smoothing function\n",
    "spline1 = r_smooth_spline(r_age, r_y, spar=0)"
   ]
  },
  {
   "cell_type": "markdown",
   "metadata": {},
   "source": [
    "<div class=\"exercise\"><b>Exercise 3</b></div>\n",
    "\n",
    "1. We actually set the spar parameter, a scale-free value that translates to a $\\lambda$ through a complex expression. Inspect the 'spline1' result and extract the implied value of $\\lambda$\n",
    "2. Working from the fitting/plotting loop examples above, produce a plot like the one below for spar = [0,.5,.9,2], including axes labels and title."
   ]
  },
  {
   "cell_type": "code",
   "execution_count": 43,
   "metadata": {},
   "outputs": [],
   "source": [
    "lambda1 = spline1.rx2(\"lambda\")"
   ]
  },
  {
   "cell_type": "code",
   "execution_count": 44,
   "metadata": {},
   "outputs": [
    {
     "data": {
      "image/png": "[encoded data removed]",
      "text/plain": [
       "<Figure size 432x288 with 1 Axes>"
      ]
     },
     "metadata": {
      "needs_background": "light"
     },
     "output_type": "display_data"
    },
    {
     "data": {
      "image/png": "[encoded data removed]",
      "text/plain": [
       "<Figure size 432x288 with 1 Axes>"
      ]
     },
     "metadata": {
      "needs_background": "light"
     },
     "output_type": "display_data"
    },
    {
     "data": {
      "image/png": "[encoded data removed]",
      "text/plain": [
       "<Figure size 432x288 with 1 Axes>"
      ]
     },
     "metadata": {
      "needs_background": "light"
     },
     "output_type": "display_data"
    },
    {
     "data": {
      "image/png": "[encoded data removed]",
      "text/plain": [
       "<Figure size 432x288 with 1 Axes>"
      ]
     },
     "metadata": {
      "needs_background": "light"
     },
     "output_type": "display_data"
    }
   ],
   "source": [
    "for cur_spar in [0,0.5,0.9,2]:\n",
    "    \n",
    "    cur_model = r_smooth_spline(r_age, r_y, spar= cur_spar)\n",
    "    cur_lambda = cur_model.rx2(\"lambda\")[0]\n",
    "    \n",
    "    ax = diab.plot.scatter(x='age',y='y',c='Red',title=\"$\\lambda=$\"+str(cur_lambda)) #can use TeX style in labels\n",
    "    ax.set_xlabel(\"Age at Diagnosis\")\n",
    "    ax.set_ylabel(\"Log C-Peptide Concentration\")\n",
    "    ax.plot(cur_model.rx2(\"x\"),cur_model.rx2(\"y\"),color=\"darkgreen\")\n",
    "    \n",
    "    plt.show()"
   ]
  },
  {
   "cell_type": "markdown",
   "metadata": {},
   "source": [
    "**CV**  \n",
    "R's `smooth_spline` funciton has built-in CV to find a good lambda. See package [docs](https://www.rdocumentation.org/packages/stats/versions/3.5.2/topics/smooth.spline)."
   ]
  },
  {
   "cell_type": "code",
   "execution_count": 45,
   "metadata": {},
   "outputs": [
    {
     "data": {
      "image/png": "[encoded data removed]",
      "text/plain": [
       "<Figure size 432x288 with 1 Axes>"
      ]
     },
     "metadata": {
      "needs_background": "light"
     },
     "output_type": "display_data"
    }
   ],
   "source": [
    "spline_cv = r_smooth_spline(r_age, r_y, cv=True) \n",
    "\n",
    "lambda_cv = spline_cv.rx2(\"lambda\")[0]\n",
    "\n",
    "ax19 = diab.plot.scatter(x='age',y='y',c='Red',title=\"smoothing spline with $\\lambda=$\"+str(np.round(lambda_cv,4))+\", chosen by cross-validation\")\n",
    "ax19.set_xlabel(\"Age at Diagnosis\")\n",
    "ax19.set_ylabel(\"Log C-Peptide Concentration\")\n",
    "ax19.plot(spline_cv.rx2(\"x\"),spline_cv.rx2(\"y\"),color=\"darkgreen\");"
   ]
  },
  {
   "cell_type": "markdown",
   "metadata": {},
   "source": [
    "## Natural & Basis Splines\n",
    "Here, we take a step backward on model complexity, but a step forward in coding complexity. We'll be working with R's formula interface again, so we will need to populate Formulas and DataFrames."
   ]
  },
  {
   "cell_type": "code",
   "execution_count": 46,
   "metadata": {},
   "outputs": [],
   "source": [
    "#We will now work with a new dataset, called GAGurine.\n",
    "#The dataset description (from the R package MASS) is below:\n",
    "#Data were collected on the concentration of a chemical GAG \n",
    "# in the urine of 314 children aged from zero to seventeen years. \n",
    "# The aim of the study was to produce a chart to help a paediatrican\n",
    "# to assess if a child's GAG concentration is ‘normal’.\n",
    "\n",
    "#The variables are:\n",
    "# Age: age of child in years.\n",
    "# GAG: concentration of GAG (the units have been lost)."
   ]
  },
  {
   "cell_type": "code",
   "execution_count": 47,
   "metadata": {},
   "outputs": [
    {
     "data": {
      "text/html": [
       "<div>\n",
       "<style scoped>\n",
       "    .dataframe tbody tr th:only-of-type {\n",
       "        vertical-align: middle;\n",
       "    }\n",
       "\n",
       "    .dataframe tbody tr th {\n",
       "        vertical-align: top;\n",
       "    }\n",
       "\n",
       "    .dataframe thead th {\n",
       "        text-align: right;\n",
       "    }\n",
       "</style>\n",
       "<table border=\"1\" class=\"dataframe\">\n",
       "  <thead>\n",
       "    <tr style=\"text-align: right;\">\n",
       "      <th></th>\n",
       "      <th>Age</th>\n",
       "      <th>GAG</th>\n",
       "    </tr>\n",
       "  </thead>\n",
       "  <tbody>\n",
       "    <tr>\n",
       "      <th>0</th>\n",
       "      <td>0.00</td>\n",
       "      <td>23.0</td>\n",
       "    </tr>\n",
       "    <tr>\n",
       "      <th>1</th>\n",
       "      <td>0.00</td>\n",
       "      <td>23.8</td>\n",
       "    </tr>\n",
       "    <tr>\n",
       "      <th>2</th>\n",
       "      <td>0.00</td>\n",
       "      <td>16.9</td>\n",
       "    </tr>\n",
       "    <tr>\n",
       "      <th>3</th>\n",
       "      <td>0.00</td>\n",
       "      <td>18.6</td>\n",
       "    </tr>\n",
       "    <tr>\n",
       "      <th>4</th>\n",
       "      <td>0.01</td>\n",
       "      <td>17.9</td>\n",
       "    </tr>\n",
       "  </tbody>\n",
       "</table>\n",
       "</div>"
      ],
      "text/plain": [
       "    Age   GAG\n",
       "0  0.00  23.0\n",
       "1  0.00  23.8\n",
       "2  0.00  16.9\n",
       "3  0.00  18.6\n",
       "4  0.01  17.9"
      ]
     },
     "metadata": {},
     "output_type": "display_data"
    },
    {
     "data": {
      "image/png": "[encoded data removed]",
      "text/plain": [
       "<Figure size 432x288 with 1 Axes>"
      ]
     },
     "metadata": {
      "needs_background": "light"
     },
     "output_type": "display_data"
    }
   ],
   "source": [
    "GAGurine = pd.read_csv(\"data/GAGurine.csv\")\n",
    "display(GAGurine.head())\n",
    "\n",
    "ax31 = GAGurine.plot.scatter(x='Age',y='GAG',c='black',title=\"GAG in urine of children\")\n",
    "ax31.set_xlabel(\"Age\");\n",
    "ax31.set_ylabel(\"GAG\");"
   ]
  },
  {
   "cell_type": "markdown",
   "metadata": {},
   "source": [
    "Standard stuff: import function, convert variables to R format, call function"
   ]
  },
  {
   "cell_type": "code",
   "execution_count": 49,
   "metadata": {},
   "outputs": [],
   "source": [
    "from rpy2.robjects.packages import importr\n",
    "r_splines = importr('splines')\n",
    "\n",
    "# populate R variables\n",
    "r_gag = robjects.FloatVector(GAGurine['GAG'].values)\n",
    "r_age = robjects.FloatVector(GAGurine['Age'].values)\n",
    "r_quarts = robjects.FloatVector(np.quantile(r_age,[.25,.5,.75])) #woah, numpy functions run on R objects!"
   ]
  },
  {
   "cell_type": "markdown",
   "metadata": {},
   "source": [
    "What happens when we call the ns or bs functions from r_splines?"
   ]
  },
  {
   "cell_type": "code",
   "execution_count": 50,
   "metadata": {},
   "outputs": [],
   "source": [
    "ns_design = r_splines.ns(r_age, knots=r_quarts)\n",
    "bs_design = r_splines.bs(r_age, knots=r_quarts)"
   ]
  },
  {
   "cell_type": "code",
   "execution_count": 51,
   "metadata": {},
   "outputs": [
    {
     "name": "stdout",
     "output_type": "stream",
     "text": [
      "                  1            2           3            4\n",
      "  [1,] 0.000000e+00  0.000000000 0.000000000  0.000000000\n",
      "  [2,] 0.000000e+00  0.000000000 0.000000000  0.000000000\n",
      "  [3,] 0.000000e+00  0.000000000 0.000000000  0.000000000\n",
      "  [4,] 0.000000e+00  0.000000000 0.000000000  0.000000000\n",
      "  [5,] 3.064149e-08 -0.001934587 0.004727391 -0.002792803\n",
      "  [6,] 3.064149e-08 -0.001934587 0.004727391 -0.002792803\n",
      "  [7,] 3.064149e-08 -0.001934587 0.004727391 -0.002792803\n",
      "  [8,] 3.064149e-08 -0.001934587 0.004727391 -0.002792803\n",
      "  [9,] 3.064149e-08 -0.001934587 0.004727391 -0.002792803\n",
      " [10,] 3.064149e-08 -0.001934587 0.004727391 -0.002792803\n",
      " [11,] 3.064149e-08 -0.001934587 0.004727391 -0.002792803\n",
      " [12,] 2.451319e-07 -0.003869017 0.009454395 -0.005585378\n",
      " [13,] 2.451319e-07 -0.003869017 0.009454395 -0.005585378\n",
      " [14,] 8.273203e-07 -0.005803130 0.014180627 -0.008377497\n",
      " [15,] 8.273203e-07 -0.005803130 0.014180627 -0.008377497\n",
      " [16,] 8.273203e-07 -0.005803130 0.014180627 -0.008377497\n",
      " [17,] 1.961055e-06 -0.007736769 0.018905700 -0.011168931\n",
      " [18,] 1.961055e-06 -0.007736769 0.018905700 -0.011168931\n",
      " [19,] 1.961055e-06 -0.007736769 0.018905700 -0.011168931\n",
      " [20,] 3.830186e-06 -0.009669775 0.023629228 -0.013959452\n",
      " [21,] 3.830186e-06 -0.009669775 0.023629228 -0.013959452\n",
      " [22,] 3.830186e-06 -0.009669775 0.023629228 -0.013959452\n",
      " [23,] 3.830186e-06 -0.009669775 0.023629228 -0.013959452\n",
      " [24,] 3.830186e-06 -0.009669775 0.023629228 -0.013959452\n",
      " [25,] 3.830186e-06 -0.009669775 0.023629228 -0.013959452\n",
      " [26,] 6.618562e-06 -0.011601992 0.028350825 -0.016748833\n",
      " [27,] 1.051003e-05 -0.013533260 0.033070104 -0.019536844\n",
      " [28,] 3.064149e-05 -0.019319792 0.047210174 -0.027890381\n",
      " [29,] 3.064149e-05 -0.019319792 0.047210174 -0.027890381\n",
      " [30,] 8.408025e-05 -0.027012302 0.066007721 -0.038995419\n",
      " [31,] 8.408025e-05 -0.027012302 0.066007721 -0.038995419\n",
      " [32,] 1.034150e-04 -0.028930292 0.070694554 -0.041764262\n",
      " [33,] 1.505416e-04 -0.032759001 0.080050453 -0.047291452\n",
      " [34,] 1.787012e-04 -0.034669404 0.084718746 -0.050049342\n",
      " [35,] 3.728150e-04 -0.044175579 0.107948196 -0.063772617\n",
      " [36,] 4.235880e-04 -0.046066539 0.112568979 -0.066502440\n",
      " [37,] 4.235880e-04 -0.046066539 0.112568979 -0.066502440\n",
      " [38,] 4.787733e-04 -0.047953706 0.117180492 -0.069226786\n",
      " [39,] 6.031165e-04 -0.051716026 0.126374162 -0.074658136\n",
      " [40,] 6.726420e-04 -0.053590864 0.130955546 -0.077364683\n",
      " [41,] 7.473153e-04 -0.055461275 0.135526116 -0.080064841\n",
      " [42,] 7.473153e-04 -0.055461275 0.135526116 -0.080064841\n",
      " [43,] 8.273203e-04 -0.057327103 0.140085484 -0.082758381\n",
      " [44,] 1.101163e-03 -0.062895500 0.153692516 -0.090797015\n",
      " [45,] 1.101163e-03 -0.062895500 0.153692516 -0.090797015\n",
      " [46,] 1.961055e-03 -0.075698483 0.184978102 -0.109279619\n",
      " [47,] 2.111842e-03 -0.077503454 0.189388760 -0.111885306\n",
      " [48,] 2.792206e-03 -0.084656950 0.206869163 -0.122212213\n",
      " [49,] 2.982520e-03 -0.086427936 0.211196775 -0.124768839\n",
      " [50,] 3.181292e-03 -0.088191651 0.215506620 -0.127314969\n",
      " [51,] 3.830186e-03 -0.093437589 0.228325683 -0.134888094\n",
      " [52,] 3.830186e-03 -0.093437589 0.228325683 -0.134888094\n",
      " [53,] 4.561813e-03 -0.098612396 0.240970929 -0.142358533\n",
      " [54,] 5.097978e-03 -0.102020643 0.249299379 -0.147278736\n",
      " [55,] 5.381136e-03 -0.103711804 0.253431930 -0.149720126\n",
      " [56,] 5.381136e-03 -0.103711804 0.253431930 -0.149720126\n",
      " [57,] 5.674590e-03 -0.105394114 0.257542851 -0.152148737\n",
      " [58,] 5.978523e-03 -0.107067414 0.261631755 -0.154564341\n",
      " [59,] 6.293119e-03 -0.108731546 0.265698256 -0.156966710\n",
      " [60,] 6.293119e-03 -0.108731546 0.265698256 -0.156966710\n",
      " [61,] 7.302725e-03 -0.113667353 0.277759478 -0.164092125\n",
      " [62,] 8.032483e-03 -0.116909153 0.285681197 -0.168772043\n",
      " [63,] 8.414919e-03 -0.118514958 0.289605168 -0.171090210\n",
      " [64,] 8.414919e-03 -0.118514958 0.289605168 -0.171090210\n",
      " [65,] 1.006601e-02 -0.124833851 0.305046123 -0.180212272\n",
      " [66,] 1.096693e-02 -0.127928489 0.312608234 -0.184679744\n",
      " [67,] 1.292688e-02 -0.133981827 0.327400273 -0.193418446\n",
      " [68,] 1.568844e-02 -0.141280573 0.345235612 -0.203955039\n",
      " [69,] 1.568844e-02 -0.141280573 0.345235612 -0.203955039\n",
      " [70,] 1.689474e-02 -0.144112659 0.352156146 -0.208043487\n",
      " [71,] 1.752041e-02 -0.145509339 0.355569097 -0.210059758\n",
      " [72,] 1.816133e-02 -0.146892899 0.358949987 -0.212057089\n",
      " [73,] 1.881771e-02 -0.148263181 0.362298433 -0.214035252\n",
      " [74,] 1.948970e-02 -0.149620027 0.365614046 -0.215994018\n",
      " [75,] 1.948970e-02 -0.149620027 0.365614046 -0.215994018\n",
      " [76,] 2.017751e-02 -0.150963280 0.368896441 -0.217933161\n",
      " [77,] 2.160130e-02 -0.153608371 0.375360030 -0.221751659\n",
      " [78,] 2.545033e-02 -0.159972141 0.390910646 -0.230938505\n",
      " [79,] 2.710963e-02 -0.162414746 0.396879438 -0.234464692\n",
      " [80,] 2.796564e-02 -0.163613380 0.399808443 -0.236195062\n",
      " [81,] 2.883927e-02 -0.164796834 0.402700383 -0.237903535\n",
      " [82,] 2.973041e-02 -0.165965153 0.405555404 -0.239590198\n",
      " [83,] 3.250788e-02 -0.169379744 0.413900438 -0.244520198\n",
      " [84,] 3.346805e-02 -0.170487969 0.416609265 -0.246120493\n",
      " [85,] 3.346805e-02 -0.170487969 0.416609265 -0.246120493\n",
      " [86,] 3.543925e-02 -0.172659731 0.421918531 -0.249257051\n",
      " [87,] 3.747761e-02 -0.174772208 0.427084266 -0.252308815\n",
      " [88,] 3.747761e-02 -0.174772208 0.427084266 -0.252308815\n",
      " [89,] 3.747761e-02 -0.174772208 0.427084266 -0.252308815\n",
      " [90,] 3.852171e-02 -0.175806326 0.429613679 -0.253803118\n",
      " [91,] 4.628596e-02 -0.182636443 0.446335571 -0.263681920\n",
      " [92,] 5.610237e-02 -0.189580841 0.463385077 -0.273754266\n",
      " [93,] 5.739766e-02 -0.190385359 0.465365224 -0.274924079\n",
      " [94,] 5.870776e-02 -0.191175909 0.467312300 -0.276074354\n",
      " [95,] 5.870776e-02 -0.191175909 0.467312300 -0.276074354\n",
      " [96,] 5.870776e-02 -0.191175909 0.467312300 -0.276074354\n",
      " [97,] 6.547692e-02 -0.194920703 0.476556787 -0.281535725\n",
      " [98,] 6.687375e-02 -0.195628385 0.478308542 -0.282570610\n",
      " [99,] 6.687375e-02 -0.195628385 0.478308542 -0.282570610\n",
      "[100,] 6.687375e-02 -0.195628385 0.478308542 -0.282570610\n",
      "[101,] 7.260095e-02 -0.198323019 0.484996684 -0.286521767\n",
      "[102,] 7.554703e-02 -0.199589308 0.488151500 -0.288385540\n",
      "[103,] 7.854699e-02 -0.200802057 0.491181724 -0.290175707\n",
      "[104,] 7.854699e-02 -0.200802057 0.491181724 -0.290175707\n",
      "[105,] 1.009856e-01 -0.207822359 0.509004168 -0.300704682\n",
      "[106,] 1.113273e-01 -0.210063875 0.514891857 -0.304182956\n",
      "[107,] 1.220718e-01 -0.211859086 0.519775412 -0.307068016\n",
      "[108,] 1.408134e-01 -0.213885649 0.525770064 -0.310609480\n",
      "[109,] 1.427417e-01 -0.214023330 0.526226699 -0.310879247\n",
      "[110,] 1.446794e-01 -0.214149376 0.526657957 -0.311134022\n",
      "[111,] 1.584986e-01 -0.214709709 0.528978629 -0.312505006\n",
      "[112,] 1.625258e-01 -0.214767654 0.529421717 -0.312766770\n",
      "[113,] 1.727389e-01 -0.214717559 0.530113819 -0.313175643\n",
      "[114,] 1.894836e-01 -0.214069771 0.530024672 -0.313122978\n",
      "[115,] 1.894836e-01 -0.214069771 0.530024672 -0.313122978\n",
      "[116,] 1.958819e-01 -0.213650686 0.529624602 -0.312886628\n",
      "[117,] 2.066789e-01 -0.212743466 0.528529187 -0.312239489\n",
      "[118,] 2.110418e-01 -0.212308564 0.527944453 -0.311894046\n",
      "[119,] 2.154288e-01 -0.211833051 0.527277742 -0.311500172\n",
      "[120,] 2.176311e-01 -0.211580177 0.526914015 -0.311285293\n",
      "[121,] 2.198390e-01 -0.211317285 0.526530237 -0.311058568\n",
      "[122,] 2.332003e-01 -0.209532061 0.523814796 -0.309454366\n",
      "[123,] 2.558553e-01 -0.205785150 0.517783664 -0.305891351\n",
      "[124,] 2.627331e-01 -0.204478558 0.515625658 -0.304616464\n",
      "[125,] 2.742671e-01 -0.202119093 0.511689131 -0.302290880\n",
      "[126,] 2.835507e-01 -0.200071121 0.508244696 -0.300256009\n",
      "[127,] 2.882091e-01 -0.198994657 0.506427330 -0.299182363\n",
      "[128,] 3.022401e-01 -0.195559658 0.500608841 -0.295744970\n",
      "[129,] 3.234049e-01 -0.189846063 0.490907229 -0.290013544\n",
      "[130,] 3.588079e-01 -0.178907945 0.472407206 -0.279084274\n",
      "[131,] 3.588079e-01 -0.178907945 0.472407206 -0.279084274\n",
      "[132,] 3.611669e-01 -0.178118820 0.471080150 -0.278300289\n",
      "[133,] 3.682390e-01 -0.175708215 0.467034314 -0.275910128\n",
      "[134,] 3.800035e-01 -0.171549126 0.460084572 -0.271804425\n",
      "[135,] 3.917288e-01 -0.167218135 0.452892507 -0.267555564\n",
      "[136,] 3.917288e-01 -0.167218135 0.452892507 -0.267555564\n",
      "[137,] 4.034019e-01 -0.162720851 0.445476613 -0.263174473\n",
      "[138,] 4.103754e-01 -0.159944995 0.440927334 -0.260486893\n",
      "[139,] 4.173226e-01 -0.157112506 0.436308131 -0.257758003\n",
      "[140,] 4.219381e-01 -0.155193315 0.433191788 -0.255916959\n",
      "[141,] 4.265399e-01 -0.153249852 0.430047326 -0.254059304\n",
      "[142,] 4.288353e-01 -0.152269131 0.428464921 -0.253124466\n",
      "[143,] 4.447929e-01 -0.145240457 0.417211972 -0.246476555\n",
      "[144,] 4.515669e-01 -0.142142982 0.412303072 -0.243576521\n",
      "[145,] 4.627598e-01 -0.136871430 0.404021424 -0.238683967\n",
      "[146,] 4.649829e-01 -0.135801160 0.402351404 -0.237697368\n",
      "[147,] 4.694127e-01 -0.133645018 0.398998857 -0.235716782\n",
      "[148,] 4.868993e-01 -0.124819023 0.385443615 -0.227708744\n",
      "[149,] 4.868993e-01 -0.124819023 0.385443615 -0.227708744\n",
      "[150,] 5.559758e-01 -0.084183125 0.326794101 -0.193060337\n",
      "[151,] 5.578530e-01 -0.082922607 0.325080746 -0.192048138\n",
      "[152,] 5.578530e-01 -0.082922607 0.325080746 -0.192048138\n",
      "[153,] 5.707054e-01 -0.074012031 0.313163874 -0.185008000\n",
      "[154,] 5.947873e-01 -0.055782757 0.289891847 -0.171259572\n",
      "[155,] 6.150052e-01 -0.038457612 0.269247032 -0.159063222\n",
      "[156,] 6.276697e-01 -0.026292116 0.255674567 -0.151045009\n",
      "[157,] 6.303269e-01 -0.023573604 0.252751495 -0.149318145\n",
      "[158,] 6.329251e-01 -0.020850386 0.249864790 -0.147612764\n",
      "[159,] 6.450350e-01 -0.007169346 0.235980782 -0.139409477\n",
      "[160,] 6.516079e-01  0.001087414 0.228083387 -0.134741173\n",
      "[161,] 6.536854e-01  0.003847057 0.225521970 -0.133226466\n",
      "[162,] 6.536854e-01  0.003847057 0.225521970 -0.133226466\n",
      "[163,] 6.595821e-01  0.012146674 0.218048251 -0.128804468\n",
      "[164,] 6.623436e-01  0.016307467 0.214428660 -0.126661253\n",
      "[165,] 6.632368e-01  0.017695937 0.213239347 -0.125956767\n",
      "[166,] 6.666734e-01  0.023257163 0.208567562 -0.123187929\n",
      "[167,] 6.706668e-01  0.030224231 0.202918379 -0.119835991\n",
      "[168,] 6.721711e-01  0.033015552 0.200717388 -0.118528687\n",
      "[169,] 6.757022e-01  0.040004169 0.195359984 -0.115342822\n",
      "[170,] 6.817979e-01  0.054019990 0.185257002 -0.109316385\n",
      "[171,] 6.828653e-01  0.056828430 0.183332711 -0.108165092\n",
      "[172,] 6.833803e-01  0.058233224 0.182382452 -0.107596076\n",
      "[173,] 6.843731e-01  0.061043894 0.180505591 -0.106471211\n",
      "[174,] 6.866401e-01  0.068076261 0.175950342 -0.103735002\n",
      "[175,] 6.870570e-01  0.069483604 0.175062576 -0.103200633\n",
      "[176,] 6.874618e-01  0.070891208 0.174182516 -0.102670513\n",
      "[177,] 6.896394e-01  0.079341532 0.169062686 -0.099577970\n",
      "[178,] 6.902706e-01  0.082159783 0.167416671 -0.098580273\n",
      "[179,] 6.902706e-01  0.082159783 0.167416671 -0.098580273\n",
      "[180,] 6.923307e-01  0.093437353 0.161130604 -0.094751315\n",
      "[181,] 6.932477e-01  0.100487399 0.157440141 -0.092486713\n",
      "[182,] 6.933975e-01  0.101897368 0.156723722 -0.092045396\n",
      "[183,] 6.936638e-01  0.104717160 0.155312369 -0.091174218\n",
      "[184,] 6.939806e-01  0.108946285 0.153248705 -0.089895816\n",
      "[185,] 6.942506e-01  0.114583513 0.150595789 -0.088243456\n",
      "[186,] 6.943210e-01  0.117401201 0.149311184 -0.087439305\n",
      "[187,] 6.943344e-01  0.123034199 0.146824744 -0.085874325\n",
      "[188,] 6.941801e-01  0.128663322 0.144447422 -0.084366129\n",
      "[189,] 6.933792e-01  0.139906562 0.140014158 -0.081515371\n",
      "[190,] 6.933792e-01  0.139906562 0.140014158 -0.081515371\n",
      "[191,] 6.930784e-01  0.142713630 0.138971707 -0.080836330\n",
      "[192,] 6.929131e-01  0.144116530 0.138460233 -0.080501756\n",
      "[193,] 6.929131e-01  0.144116530 0.138460233 -0.080501756\n",
      "[194,] 6.917160e-01  0.152524223 0.135526439 -0.078562398\n",
      "[195,] 6.797155e-01  0.196979914 0.123605120 -0.070044971\n",
      "[196,] 6.729613e-01  0.213425405 0.120649643 -0.067562760\n",
      "[197,] 6.678337e-01  0.224302463 0.119106065 -0.066098141\n",
      "[198,] 6.643865e-01  0.231061867 0.118308372 -0.065255035\n",
      "[199,] 6.553877e-01  0.247151580 0.116898335 -0.063442787\n",
      "[200,] 6.545932e-01  0.248483409 0.116812067 -0.063304508\n",
      "[201,] 6.488475e-01  0.257765056 0.116338382 -0.062388008\n",
      "[202,] 6.462886e-01  0.261720133 0.116203838 -0.062021774\n",
      "[203,] 6.436736e-01  0.265661033 0.116109461 -0.061670753\n",
      "[204,] 6.427896e-01  0.266971454 0.116086820 -0.061557041\n",
      "[205,] 6.418996e-01  0.268280247 0.116068548 -0.061444946\n",
      "[206,] 6.418996e-01  0.268280247 0.116068548 -0.061444946\n",
      "[207,] 6.418996e-01  0.268280247 0.116068548 -0.061444946\n",
      "[208,] 6.373596e-01  0.274799329 0.116041919 -0.060908077\n",
      "[209,] 6.345654e-01  0.278690396 0.116076886 -0.060604179\n",
      "[210,] 6.317199e-01  0.282565742 0.116149290 -0.060313342\n",
      "[211,] 6.297949e-01  0.285140395 0.116218048 -0.060126461\n",
      "[212,] 6.288242e-01  0.286425009 0.116258503 -0.060035068\n",
      "[213,] 6.258795e-01  0.290267842 0.116403893 -0.059768861\n",
      "[214,] 6.198475e-01  0.297902779 0.116800687 -0.059270660\n",
      "[215,] 6.028944e-01  0.317912575 0.118515632 -0.058138154\n",
      "[216,] 6.006925e-01  0.320376100 0.118793815 -0.058013989\n",
      "[217,] 5.871306e-01  0.334970230 0.120741121 -0.057334739\n",
      "[218,] 5.669954e-01  0.355062817 0.124256767 -0.056518503\n",
      "[219,] 5.459644e-01  0.374414067 0.128556485 -0.055791940\n",
      "[220,] 5.099186e-01  0.404498805 0.137043787 -0.054551145\n",
      "[221,] 5.059839e-01  0.407580386 0.138039513 -0.054401257\n",
      "[222,] 4.980864e-01  0.413656825 0.140073347 -0.054085514\n",
      "[223,] 4.835361e-01  0.424488423 0.143934262 -0.053439889\n",
      "[224,] 4.808841e-01  0.426413819 0.144652710 -0.053311705\n",
      "[225,] 4.742498e-01  0.431166712 0.146468538 -0.052974777\n",
      "[226,] 4.742498e-01  0.431166712 0.146468538 -0.052974777\n",
      "[227,] 4.517095e-01  0.446659282 0.152818072 -0.051625729\n",
      "[228,] 4.503873e-01  0.447537585 0.153198421 -0.051535310\n",
      "[229,] 4.306587e-01  0.460254365 0.158964145 -0.050007217\n",
      "[230,] 4.306587e-01  0.460254365 0.158964145 -0.050007217\n",
      "[231,] 4.306587e-01  0.460254365 0.158964145 -0.050007217\n",
      "[232,] 4.202477e-01  0.466675986 0.162068401 -0.049046976\n",
      "[233,] 4.189533e-01  0.467460572 0.162457022 -0.048919178\n",
      "[234,] 4.022940e-01  0.477285038 0.167505412 -0.047088453\n",
      "[235,] 3.934737e-01  0.482280085 0.170209517 -0.045963387\n",
      "[236,] 3.884880e-01  0.485039347 0.171746136 -0.045273480\n",
      "[237,] 3.798644e-01  0.489700180 0.174416822 -0.043981377\n",
      "[238,] 3.786429e-01  0.490348631 0.174796426 -0.043788004\n",
      "[239,] 3.737834e-01  0.492899168 0.176310057 -0.042992643\n",
      "[240,] 3.665724e-01  0.496595679 0.178566203 -0.041734245\n",
      "[241,] 3.352690e-01  0.511335526 0.188509323 -0.035113839\n",
      "[242,] 3.263488e-01  0.515116451 0.191390570 -0.032855803\n",
      "[243,] 3.047435e-01  0.523419773 0.198466605 -0.026629916\n",
      "[244,] 3.005402e-01  0.524885850 0.199860289 -0.025286378\n",
      "[245,] 2.771193e-01  0.532079683 0.207737257 -0.016936201\n",
      "[246,] 2.771193e-01  0.532079683 0.207737257 -0.016936201\n",
      "[247,] 2.692675e-01  0.534094970 0.210423216 -0.013785663\n",
      "[248,] 2.512169e-01  0.537893957 0.216693168 -0.005804062\n",
      "[249,] 2.235290e-01  0.541178884 0.226600852  0.008691236\n",
      "[250,] 2.117225e-01  0.541509500 0.230947774  0.015820271\n",
      "[251,] 2.100705e-01  0.541499337 0.231562415  0.016867716\n",
      "[252,] 2.043565e-01  0.541351897 0.233701285  0.020590323\n",
      "[253,] 2.035488e-01  0.541316691 0.234005273  0.021129273\n",
      "[254,] 2.019397e-01  0.541235716 0.234612082  0.022212512\n",
      "[255,] 1.995420e-01  0.541087921 0.235519383  0.023850682\n",
      "[256,] 1.893713e-01  0.540085223 0.239410952  0.031132532\n",
      "[257,] 1.802952e-01  0.538643690 0.242946101  0.038115052\n",
      "[258,] 1.736817e-01  0.537242463 0.245562061  0.043513735\n",
      "[259,] 1.637189e-01  0.534526202 0.249571985  0.052182917\n",
      "[260,] 1.588836e-01  0.532926533 0.251550231  0.056639602\n",
      "[261,] 1.514793e-01  0.530092341 0.254623464  0.063804934\n",
      "[262,] 1.300540e-01  0.518917796 0.263855512  0.087172722\n",
      "[263,] 1.129151e-01  0.506139830 0.271678685  0.109266395\n",
      "[264,] 1.118294e-01  0.505193972 0.272189834  0.110786819\n",
      "[265,] 1.075561e-01  0.501295529 0.274221708  0.116926651\n",
      "[266,] 9.587971e-02  0.489080717 0.279951991  0.135087582\n",
      "[267,] 9.250171e-02  0.485072824 0.281663877  0.140761584\n",
      "[268,] 9.013807e-02  0.482128717 0.282877657  0.144855552\n",
      "[269,] 8.644057e-02  0.477278793 0.284804293  0.151476342\n",
      "[270,] 7.892200e-02  0.466413120 0.288836502  0.165828381\n",
      "[271,] 7.554010e-02  0.461041646 0.290705453  0.172712806\n",
      "[272,] 7.185255e-02  0.454805237 0.292786620  0.180555595\n",
      "[273,] 6.906891e-02  0.449815133 0.294389869  0.186726090\n",
      "[274,] 6.635811e-02  0.444704658 0.295979804  0.192957430\n",
      "[275,] 6.371918e-02  0.439475408 0.297556603  0.199248808\n",
      "[276,] 5.588254e-02  0.422285187 0.302428700  0.219403573\n",
      "[277,] 5.419606e-02  0.418222028 0.303518709  0.224063204\n",
      "[278,] 5.156884e-02  0.411603395 0.305249717  0.231578047\n",
      "[279,] 5.124654e-02  0.410765988 0.305464979  0.232522496\n",
      "[280,] 4.871631e-02  0.403987066 0.307178259  0.240118363\n",
      "[281,] 4.390848e-02  0.390011758 0.310558646  0.255521118\n",
      "[282,] 3.653124e-02  0.365212166 0.316128525  0.282128066\n",
      "[283,] 3.602032e-02  0.363316423 0.316534612  0.284128641\n",
      "[284,] 2.869918e-02  0.332943999 0.322719640  0.315637181\n",
      "[285,] 2.869918e-02  0.332943999 0.322719640  0.315637181\n",
      "[286,] 2.474427e-02  0.313449080 0.326413180  0.335393471\n",
      "[287,] 2.376764e-02  0.308212853 0.327373442  0.340646068\n",
      "[288,] 2.099258e-02  0.292248284 0.330225925  0.356533208\n",
      "[289,] 1.926807e-02  0.281397812 0.332104638  0.367229485\n",
      "[290,] 1.344451e-02  0.237590246 0.339266738  0.409698501\n",
      "[291,] 1.305295e-02  0.234127225 0.339807360  0.413012465\n",
      "[292,] 1.052272e-02  0.209537858 0.343553196  0.436386223\n",
      "[293,] 1.019045e-02  0.205976854 0.344082980  0.439749714\n",
      "[294,] 9.758407e-03  0.201210697 0.344787351  0.444243545\n",
      "[295,] 9.442512e-03  0.197622629 0.345314142  0.447620717\n",
      "[296,] 9.338749e-03  0.196424070 0.345489458  0.448747723\n",
      "[297,] 8.342618e-03  0.184369893 0.347235036  0.460052453\n",
      "[298,] 7.509006e-03  0.173417177 0.348794558  0.470279258\n",
      "[299,] 4.470833e-03  0.123636566 0.355603895  0.516288706\n",
      "[300,] 3.479242e-03  0.101984644 0.358443096  0.536093018\n",
      "[301,] 2.782381e-03  0.083955767 0.360759375  0.552502478\n",
      "[302,] 2.736518e-03  0.082661523 0.360924108  0.553677851\n",
      "[303,] 2.558108e-03  0.077476219 0.361582119  0.558383554\n",
      "[304,] 2.146372e-03  0.064456292 0.363220881  0.570176455\n",
      "[305,] 1.747334e-03  0.050045348 0.365013672  0.583193646\n",
      "[306,] 1.401097e-03  0.035547145 0.366796812  0.596254945\n",
      "[307,] 5.748204e-04 -0.013778659 0.372732805  0.640471034\n",
      "[308,] 3.774241e-04 -0.032632934 0.374957791  0.657297718\n",
      "[309,] 3.307888e-04 -0.038036004 0.375591717  0.662113498\n",
      "[310,] 9.636889e-05 -0.078749647 0.380325077  0.698328202\n",
      "[311,] 6.985676e-05 -0.086926042 0.381268025  0.705588160\n",
      "[312,] 3.997043e-05 -0.099206964 0.382680641  0.716486352\n",
      "[313,] 2.376764e-05 -0.108770430 0.383778056  0.724968606\n",
      "[314,] 0.000000e+00 -0.159422431 0.389567366  0.769855065\n",
      "attr(,\"degree\")\n",
      "[1] 3\n",
      "attr(,\"knots\")\n",
      "[1] 0.9625 4.1000 8.2700\n",
      "attr(,\"Boundary.knots\")\n",
      "[1]  0.00 17.67\n",
      "attr(,\"intercept\")\n",
      "[1] FALSE\n",
      "attr(,\"class\")\n",
      "[1] \"ns\"     \"basis\"  \"matrix\"\n",
      "\n"
     ]
    }
   ],
   "source": [
    "print(ns_design)"
   ]
  },
  {
   "cell_type": "markdown",
   "metadata": {},
   "source": [
    "`ns` and `bs` return design matrices, not model objects! That's because they're meant to work with `lm`'s formula interface. To get a model object we populate a formula including `ns(<var>,<knots>)` and fit to data"
   ]
  },
  {
   "cell_type": "code",
   "execution_count": 52,
   "metadata": {},
   "outputs": [],
   "source": [
    "r_lm = robjects.r['lm']\n",
    "r_predict = robjects.r['predict']\n",
    "\n",
    "# populate the formula\n",
    "ns_formula = robjects.Formula(\"Gag ~ ns(Age, knots=r_quarts)\")\n",
    "ns_formula.environment['Gag'] = r_gag\n",
    "ns_formula.environment['Age'] = r_age\n",
    "ns_formula.environment['r_quarts'] = r_quarts\n",
    "         \n",
    "# fit the model\n",
    "ns_model = r_lm(ns_formula)"
   ]
  },
  {
   "cell_type": "markdown",
   "metadata": {},
   "source": [
    "Predict like usual: build a dataframe to predict on and call `predict()`"
   ]
  },
  {
   "cell_type": "code",
   "execution_count": 54,
   "metadata": {},
   "outputs": [],
   "source": [
    "# predict\n",
    "predict_frame = robjects.DataFrame({\"Age\": robjects.FloatVector(np.linspace(0,20,100))})\n",
    "\n",
    "ns_out = r_predict(ns_model, predict_frame)"
   ]
  },
  {
   "cell_type": "code",
   "execution_count": 55,
   "metadata": {},
   "outputs": [
    {
     "data": {
      "image/png": "[encoded data removed]",
      "text/plain": [
       "<Figure size 432x288 with 1 Axes>"
      ]
     },
     "metadata": {
      "needs_background": "light"
     },
     "output_type": "display_data"
    }
   ],
   "source": [
    "ax32 = GAGurine.plot.scatter(x='Age',y='GAG',c='grey',title=\"GAG in urine of children\")\n",
    "ax32.set_xlabel(\"Age\")\n",
    "ax32.set_ylabel(\"GAG\")\n",
    "ax32.plot(predict_frame.rx2(\"Age\"),ns_out, color='red')\n",
    "ax32.legend([\"Natural spline, knots at quartiles\"]);"
   ]
  },
  {
   "cell_type": "markdown",
   "metadata": {},
   "source": [
    "<div class=\"exercise\"><b>Exercise 4</b></div>\n",
    "\n",
    "1. Fit a basis spline model with the same knots, and add it to the plot above\n",
    "2. Fit a basis spline with 8 knots placed at [2,4,6...14,16] and add it to the plot above"
   ]
  },
  {
   "cell_type": "code",
   "execution_count": 56,
   "metadata": {},
   "outputs": [],
   "source": [
    "bs_formula = robjects.Formula(\"Gag ~ bs(Age, knots=r_quarts)\")\n",
    "bs_formula.environment['Gag'] = r_gag\n",
    "bs_formula.environment['Age'] = r_age\n",
    "bs_formula.environment['r_quarts'] = r_quarts\n",
    "\n",
    "bs_model = r_lm(bs_formula)\n",
    "bs_out = r_predict(bs_model, predict_frame)"
   ]
  },
  {
   "cell_type": "code",
   "execution_count": 57,
   "metadata": {},
   "outputs": [
    {
     "data": {
      "image/png": "[encoded data removed]",
      "text/plain": [
       "<Figure size 432x288 with 1 Axes>"
      ]
     },
     "metadata": {
      "needs_background": "light"
     },
     "output_type": "display_data"
    }
   ],
   "source": [
    "ax32 = GAGurine.plot.scatter(x='Age',y='GAG',c='grey',title=\"GAG in urine of children\")\n",
    "ax32.set_xlabel(\"Age\")\n",
    "ax32.set_ylabel(\"GAG\")\n",
    "ax32.plot(predict_frame.rx2(\"Age\"),ns_out, color='red')\n",
    "ax32.plot(predict_frame.rx2(\"Age\"),bs_out, color='blue')\n",
    "ax32.legend([\"Natural spline, knots at quartiles\",\"B-spline, knots at quartiles\"]);"
   ]
  },
  {
   "cell_type": "code",
   "execution_count": 58,
   "metadata": {},
   "outputs": [],
   "source": [
    "overfit_formula = robjects.Formula(\"Gag ~ bs(Age, knots=r_quarts)\")\n",
    "overfit_formula.environment['Gag'] = r_gag\n",
    "overfit_formula.environment['Age'] = r_age\n",
    "overfit_formula.environment['r_quarts'] = robjects.FloatVector(np.array([2,4,6,8,10,12,14,16]))\n",
    "\n",
    "overfit_model = r_lm(overfit_formula)\n",
    "overfit_out = r_predict(overfit_model, predict_frame)"
   ]
  },
  {
   "cell_type": "code",
   "execution_count": 59,
   "metadata": {},
   "outputs": [
    {
     "data": {
      "image/png": "[encoded data removed]",
      "text/plain": [
       "<Figure size 432x288 with 1 Axes>"
      ]
     },
     "metadata": {
      "needs_background": "light"
     },
     "output_type": "display_data"
    }
   ],
   "source": [
    "ax32 = GAGurine.plot.scatter(x='Age',y='GAG',c='grey',title=\"GAG in urine of children\")\n",
    "ax32.set_xlabel(\"Age\")\n",
    "ax32.set_ylabel(\"GAG\")\n",
    "ax32.plot(predict_frame.rx2(\"Age\"),ns_out, color='red')\n",
    "ax32.plot(predict_frame.rx2(\"Age\"),bs_out, color='blue')\n",
    "ax32.plot(predict_frame.rx2(\"Age\"),overfit_out, color='green')\n",
    "ax32.legend([\"Natural spline, knots at quartiles\", \"B-spline, knots at quartiles\", \"B-spline, lots of knots\"]);"
   ]
  },
  {
   "cell_type": "markdown",
   "metadata": {},
   "source": [
    "## GAMs\n",
    "We come, at last, to our most advanced model. The coding here isn't any more complex than we've done before, though the behind-the-scenes is awesome.\n",
    "\n",
    "First, let's get our (multivariate!) data"
   ]
  },
  {
   "cell_type": "code",
   "execution_count": 60,
   "metadata": {},
   "outputs": [
    {
     "name": "stdout",
     "output_type": "stream",
     "text": [
      "\n",
      "# kyphosis - wherther a particular deformation was present post-operation\n",
      "# age - patient's age in months\n",
      "# number - the number of vertebrae involved in the operation\n",
      "# start - the number of the topmost vertebrae operated on\n",
      "\n",
      "\n"
     ]
    },
    {
     "data": {
      "text/html": [
       "<div>\n",
       "<style scoped>\n",
       "    .dataframe tbody tr th:only-of-type {\n",
       "        vertical-align: middle;\n",
       "    }\n",
       "\n",
       "    .dataframe tbody tr th {\n",
       "        vertical-align: top;\n",
       "    }\n",
       "\n",
       "    .dataframe thead th {\n",
       "        text-align: right;\n",
       "    }\n",
       "</style>\n",
       "<table border=\"1\" class=\"dataframe\">\n",
       "  <thead>\n",
       "    <tr style=\"text-align: right;\">\n",
       "      <th></th>\n",
       "      <th>Kyphosis</th>\n",
       "      <th>Age</th>\n",
       "      <th>Number</th>\n",
       "      <th>Start</th>\n",
       "    </tr>\n",
       "  </thead>\n",
       "  <tbody>\n",
       "    <tr>\n",
       "      <th>0</th>\n",
       "      <td>absent</td>\n",
       "      <td>71</td>\n",
       "      <td>3</td>\n",
       "      <td>5</td>\n",
       "    </tr>\n",
       "    <tr>\n",
       "      <th>1</th>\n",
       "      <td>absent</td>\n",
       "      <td>158</td>\n",
       "      <td>3</td>\n",
       "      <td>14</td>\n",
       "    </tr>\n",
       "    <tr>\n",
       "      <th>2</th>\n",
       "      <td>present</td>\n",
       "      <td>128</td>\n",
       "      <td>4</td>\n",
       "      <td>5</td>\n",
       "    </tr>\n",
       "    <tr>\n",
       "      <th>3</th>\n",
       "      <td>absent</td>\n",
       "      <td>2</td>\n",
       "      <td>5</td>\n",
       "      <td>1</td>\n",
       "    </tr>\n",
       "    <tr>\n",
       "      <th>4</th>\n",
       "      <td>absent</td>\n",
       "      <td>1</td>\n",
       "      <td>4</td>\n",
       "      <td>15</td>\n",
       "    </tr>\n",
       "  </tbody>\n",
       "</table>\n",
       "</div>"
      ],
      "text/plain": [
       "  Kyphosis  Age  Number  Start\n",
       "0   absent   71       3      5\n",
       "1   absent  158       3     14\n",
       "2  present  128       4      5\n",
       "3   absent    2       5      1\n",
       "4   absent    1       4     15"
      ]
     },
     "metadata": {},
     "output_type": "display_data"
    },
    {
     "data": {
      "text/html": [
       "<div>\n",
       "<style scoped>\n",
       "    .dataframe tbody tr th:only-of-type {\n",
       "        vertical-align: middle;\n",
       "    }\n",
       "\n",
       "    .dataframe tbody tr th {\n",
       "        vertical-align: top;\n",
       "    }\n",
       "\n",
       "    .dataframe thead th {\n",
       "        text-align: right;\n",
       "    }\n",
       "</style>\n",
       "<table border=\"1\" class=\"dataframe\">\n",
       "  <thead>\n",
       "    <tr style=\"text-align: right;\">\n",
       "      <th></th>\n",
       "      <th>Kyphosis</th>\n",
       "      <th>Age</th>\n",
       "      <th>Number</th>\n",
       "      <th>Start</th>\n",
       "    </tr>\n",
       "  </thead>\n",
       "  <tbody>\n",
       "    <tr>\n",
       "      <th>count</th>\n",
       "      <td>81</td>\n",
       "      <td>81.000000</td>\n",
       "      <td>81.000000</td>\n",
       "      <td>81.000000</td>\n",
       "    </tr>\n",
       "    <tr>\n",
       "      <th>unique</th>\n",
       "      <td>2</td>\n",
       "      <td>NaN</td>\n",
       "      <td>NaN</td>\n",
       "      <td>NaN</td>\n",
       "    </tr>\n",
       "    <tr>\n",
       "      <th>top</th>\n",
       "      <td>absent</td>\n",
       "      <td>NaN</td>\n",
       "      <td>NaN</td>\n",
       "      <td>NaN</td>\n",
       "    </tr>\n",
       "    <tr>\n",
       "      <th>freq</th>\n",
       "      <td>64</td>\n",
       "      <td>NaN</td>\n",
       "      <td>NaN</td>\n",
       "      <td>NaN</td>\n",
       "    </tr>\n",
       "    <tr>\n",
       "      <th>mean</th>\n",
       "      <td>NaN</td>\n",
       "      <td>83.654321</td>\n",
       "      <td>4.049383</td>\n",
       "      <td>11.493827</td>\n",
       "    </tr>\n",
       "    <tr>\n",
       "      <th>std</th>\n",
       "      <td>NaN</td>\n",
       "      <td>58.104251</td>\n",
       "      <td>1.619423</td>\n",
       "      <td>4.883962</td>\n",
       "    </tr>\n",
       "    <tr>\n",
       "      <th>min</th>\n",
       "      <td>NaN</td>\n",
       "      <td>1.000000</td>\n",
       "      <td>2.000000</td>\n",
       "      <td>1.000000</td>\n",
       "    </tr>\n",
       "    <tr>\n",
       "      <th>25%</th>\n",
       "      <td>NaN</td>\n",
       "      <td>26.000000</td>\n",
       "      <td>3.000000</td>\n",
       "      <td>9.000000</td>\n",
       "    </tr>\n",
       "    <tr>\n",
       "      <th>50%</th>\n",
       "      <td>NaN</td>\n",
       "      <td>87.000000</td>\n",
       "      <td>4.000000</td>\n",
       "      <td>13.000000</td>\n",
       "    </tr>\n",
       "    <tr>\n",
       "      <th>75%</th>\n",
       "      <td>NaN</td>\n",
       "      <td>130.000000</td>\n",
       "      <td>5.000000</td>\n",
       "      <td>16.000000</td>\n",
       "    </tr>\n",
       "    <tr>\n",
       "      <th>max</th>\n",
       "      <td>NaN</td>\n",
       "      <td>206.000000</td>\n",
       "      <td>10.000000</td>\n",
       "      <td>18.000000</td>\n",
       "    </tr>\n",
       "  </tbody>\n",
       "</table>\n",
       "</div>"
      ],
      "text/plain": [
       "       Kyphosis         Age     Number      Start\n",
       "count        81   81.000000  81.000000  81.000000\n",
       "unique        2         NaN        NaN        NaN\n",
       "top      absent         NaN        NaN        NaN\n",
       "freq         64         NaN        NaN        NaN\n",
       "mean        NaN   83.654321   4.049383  11.493827\n",
       "std         NaN   58.104251   1.619423   4.883962\n",
       "min         NaN    1.000000   2.000000   1.000000\n",
       "25%         NaN   26.000000   3.000000   9.000000\n",
       "50%         NaN   87.000000   4.000000  13.000000\n",
       "75%         NaN  130.000000   5.000000  16.000000\n",
       "max         NaN  206.000000  10.000000  18.000000"
      ]
     },
     "metadata": {},
     "output_type": "display_data"
    },
    {
     "data": {
      "text/plain": [
       "Kyphosis    object\n",
       "Age          int64\n",
       "Number       int64\n",
       "Start        int64\n",
       "dtype: object"
      ]
     },
     "metadata": {},
     "output_type": "display_data"
    }
   ],
   "source": [
    "kyphosis = pd.read_csv(\"data/kyphosis.csv\")\n",
    "\n",
    "print(\"\"\"\n",
    "# kyphosis - wherther a particular deformation was present post-operation\n",
    "# age - patient's age in months\n",
    "# number - the number of vertebrae involved in the operation\n",
    "# start - the number of the topmost vertebrae operated on\n",
    "\n",
    "\"\"\")\n",
    "display(kyphosis.head())\n",
    "display(kyphosis.describe(include='all'))\n",
    "display(kyphosis.dtypes)"
   ]
  },
  {
   "cell_type": "code",
   "execution_count": 73,
   "metadata": {},
   "outputs": [],
   "source": [
    "#If there are errors about missing R packages, run the code below:\n",
    "\n",
    "#r_utils = importr('utils')\n",
    "#r_utils.install_packages('codetools')\n",
    "#r_utils.install_packages('gam')"
   ]
  },
  {
   "cell_type": "markdown",
   "metadata": {},
   "source": [
    "To fit a GAM, we\n",
    " - Import the `gam` library\n",
    " - Populate a formula including `s(<var>)` on variables we want to fit smooths for\n",
    " - Call `gam(formula, family=<string>)` where `family` is a string naming a probability distribution, chosen based on how the response variable is thought to occur. \n",
    " - Rough `family` guidelines:\n",
    "     - Response is binary or \"N occurances out of M tries\", e.g. number of lab rats (out of 10) developing disease: chooose `\"binomial\"`\n",
    "     - Response is a count with no logical upper bound, e.g. number of ice creams sold: choose `\"poisson\"`\n",
    "     - Response is real, with normally-distributed noise, e.g. person's height: choose `\"gaussian\"` (the default)"
   ]
  },
  {
   "cell_type": "code",
   "execution_count": 74,
   "metadata": {},
   "outputs": [],
   "source": [
    "#There is a Python library in development for using GAMs (https://github.com/dswah/pyGAM)\n",
    "# but it is not yet as comprehensive as the R GAM library, which we will use here instead.\n",
    "\n",
    "# R also has the mgcv library, which implements some more advanced/flexible fitting methods\n",
    "\n",
    "r_gam_lib = importr('gam')\n",
    "r_gam = r_gam_lib.gam\n",
    "\n",
    "r_kyph = robjects.FactorVector(kyphosis[[\"Kyphosis\"]].values)\n",
    "r_Age = robjects.FloatVector(kyphosis[[\"Age\"]].values)\n",
    "r_Number = robjects.FloatVector(kyphosis[[\"Number\"]].values)\n",
    "r_Start = robjects.FloatVector(kyphosis[[\"Start\"]].values)\n",
    "\n",
    "kyph1_fmla = robjects.Formula(\"Kyphosis ~ s(Age) + s(Number) + s(Start)\")\n",
    "kyph1_fmla.environment['Kyphosis']=r_kyph\n",
    "kyph1_fmla.environment['Age']=r_Age\n",
    "kyph1_fmla.environment['Number']=r_Number\n",
    "kyph1_fmla.environment['Start']=r_Start\n",
    "\n",
    "\n",
    "kyph1_gam = r_gam(kyph1_fmla, family=\"binomial\")"
   ]
  },
  {
   "cell_type": "markdown",
   "metadata": {},
   "source": [
    "The fitted gam model has a lot of interesting data within it"
   ]
  },
  {
   "cell_type": "code",
   "execution_count": 77,
   "metadata": {},
   "outputs": [],
   "source": [
    "print(kyph1_gam.names)"
   ]
  },
  {
   "cell_type": "markdown",
   "metadata": {},
   "source": [
    "Remember plotting? Calling R's `plot()` on a gam model is the easiest way to view the fitted splines"
   ]
  },
  {
   "cell_type": "code",
   "execution_count": 75,
   "metadata": {},
   "outputs": [],
   "source": [
    "%R -i kyph1_gam plot(kyph1_gam, residuals=TRUE,se=TRUE, scale=20);"
   ]
  },
  {
   "cell_type": "markdown",
   "metadata": {},
   "source": [
    "Prediction works like normal (build a data frame to predict on, if you don't already have one, and call `predict()`). However, predict always reports the sum of the individual variable effects. If `family` is non-default this can be different from the actual prediction for that point.\n",
    "\n",
    "For instance, we're doing a 'logistic regression' so the raw prediction is log odds, but we can get probability by using in `predict(..., type=\"response\")`"
   ]
  },
  {
   "cell_type": "code",
   "execution_count": 78,
   "metadata": {},
   "outputs": [],
   "source": [
    "kyph_new = robjects.DataFrame({'Age': robjects.IntVector((84,85,86)), \n",
    "                               'Start': robjects.IntVector((5,3,1)), \n",
    "                               'Number': robjects.IntVector((1,6,10))})\n",
    "\n",
    "print(\"Raw response (so, Log odds):\")\n",
    "display(r_predict(kyph1_gam, kyph_new))\n",
    "print(\"Scaled response (so, probabilty of kyphosis):\")\n",
    "display(r_predict(kyph1_gam, kyph_new, type=\"response\"))"
   ]
  }
 ],
 "metadata": {
  "kernelspec": {
   "display_name": "Python [default]",
   "language": "python",
   "name": "python3"
  }
 },
 "nbformat": 4,
 "nbformat_minor": 2
}
